{
 "cells": [
  {
   "cell_type": "markdown",
   "metadata": {
    "cellId": "tz15xhj6ayflx97jz3lrkf"
   },
   "source": [
    "## Подготовка датасета Ta-Feng"
   ]
  },
  {
   "cell_type": "code",
   "execution_count": 1,
   "metadata": {
    "cellId": "wtf3snx8mnttwp5prupiq"
   },
   "outputs": [],
   "source": [
    "from datetime import datetime\n",
    "from collections import Counter, defaultdict\n",
    "\n",
    "import os\n",
    "import re\n",
    "import pandas as pd\n",
    "import numpy as np\n",
    "import warnings\n",
    "warnings.filterwarnings(\"ignore\")"
   ]
  },
  {
   "cell_type": "code",
   "execution_count": 2,
   "metadata": {
    "cellId": "y9m2roqnar9cxc68lhkrl"
   },
   "outputs": [],
   "source": [
    "DATASET = 'ta_feng'\n",
    "RAW_PATH = os.path.join('./data/', DATASET)\n",
    "\n",
    "RANDOM_SEED = 0\n",
    "NEG_ITEMS = 99"
   ]
  },
  {
   "cell_type": "code",
   "execution_count": 3,
   "metadata": {
    "cellId": "7ogfmzq972gmcwj8ekjjn"
   },
   "outputs": [
    {
     "data": {
      "text/plain": [
       "'./data/ta_feng'"
      ]
     },
     "execution_count": 3,
     "metadata": {},
     "output_type": "execute_result"
    }
   ],
   "source": [
    "RAW_PATH"
   ]
  },
  {
   "cell_type": "markdown",
   "metadata": {
    "cellId": "b6gpw4jxx4dol7d20mykzn"
   },
   "source": [
    "### Загрузка данных"
   ]
  },
  {
   "cell_type": "code",
   "execution_count": 5,
   "metadata": {
    "cellId": "gt1tqwpl9tdacnzcwhvmwd"
   },
   "outputs": [],
   "source": [
    "file_path = RAW_PATH + '/ta_feng.csv'\n",
    "data = pd.read_csv(file_path).dropna().reset_index(drop=True)\n",
    "data_df = data[['CUSTOMER_ID', 'PRODUCT_ID', 'TRANSACTION_DT']]\n",
    "item_df = data[['PRODUCT_ID', 'PRODUCT_SUBCLASS']]"
   ]
  },
  {
   "cell_type": "code",
   "execution_count": 6,
   "metadata": {
    "cellId": "rg1t4fpvdspl41enadcpit"
   },
   "outputs": [
    {
     "data": {
      "text/html": [
       "<div>\n",
       "<style scoped>\n",
       "    .dataframe tbody tr th:only-of-type {\n",
       "        vertical-align: middle;\n",
       "    }\n",
       "\n",
       "    .dataframe tbody tr th {\n",
       "        vertical-align: top;\n",
       "    }\n",
       "\n",
       "    .dataframe thead th {\n",
       "        text-align: right;\n",
       "    }\n",
       "</style>\n",
       "<table border=\"1\" class=\"dataframe\">\n",
       "  <thead>\n",
       "    <tr style=\"text-align: right;\">\n",
       "      <th></th>\n",
       "      <th>user_id</th>\n",
       "      <th>item_id</th>\n",
       "      <th>time</th>\n",
       "    </tr>\n",
       "  </thead>\n",
       "  <tbody>\n",
       "    <tr>\n",
       "      <th>0</th>\n",
       "      <td>1104905</td>\n",
       "      <td>4710199010372</td>\n",
       "      <td>2000-11-01</td>\n",
       "    </tr>\n",
       "    <tr>\n",
       "      <th>1</th>\n",
       "      <td>418683</td>\n",
       "      <td>4710857472535</td>\n",
       "      <td>2000-11-01</td>\n",
       "    </tr>\n",
       "    <tr>\n",
       "      <th>2</th>\n",
       "      <td>1057331</td>\n",
       "      <td>4710043654103</td>\n",
       "      <td>2000-11-01</td>\n",
       "    </tr>\n",
       "    <tr>\n",
       "      <th>3</th>\n",
       "      <td>1849332</td>\n",
       "      <td>4710126092129</td>\n",
       "      <td>2000-11-01</td>\n",
       "    </tr>\n",
       "    <tr>\n",
       "      <th>4</th>\n",
       "      <td>1981995</td>\n",
       "      <td>4710176021445</td>\n",
       "      <td>2000-11-01</td>\n",
       "    </tr>\n",
       "  </tbody>\n",
       "</table>\n",
       "</div>"
      ],
      "text/plain": [
       "   user_id        item_id       time\n",
       "0  1104905  4710199010372 2000-11-01\n",
       "1   418683  4710857472535 2000-11-01\n",
       "2  1057331  4710043654103 2000-11-01\n",
       "3  1849332  4710126092129 2000-11-01\n",
       "4  1981995  4710176021445 2000-11-01"
      ]
     },
     "execution_count": 6,
     "metadata": {},
     "output_type": "execute_result"
    }
   ],
   "source": [
    "data_df.columns = ['user_id', 'item_id', 'time']\n",
    "data_df['time'] = data_df['time'].apply(lambda x: datetime.strptime(x, '%m/%d/%Y'))\n",
    "item_df.columns = ['item_id', 'i_category']\n",
    "data_df.head()"
   ]
  },
  {
   "cell_type": "code",
   "execution_count": 7,
   "metadata": {
    "cellId": "ru39eaz0rp8cjyrawtnrf"
   },
   "outputs": [
    {
     "name": "stdout",
     "output_type": "stream",
     "text": [
      "Filter before: 795379\n",
      "Filter after: 686390\n"
     ]
    }
   ],
   "source": [
    "# Оставляем товары и покупателей с 10 транзакциями и более\n",
    "min_num = 10\n",
    "\n",
    "print('Filter before:', len(data_df))\n",
    "filter_before = -1\n",
    "while filter_before != len(data_df):\n",
    "    filter_before = len(data_df)\n",
    "    for stage in ['user_id', 'item_id']:\n",
    "        val_cnt = data_df[stage].value_counts()\n",
    "        cnt_df = pd.DataFrame({stage: val_cnt.index, 'cnt': val_cnt.values})\n",
    "        data_df = pd.merge(data_df, cnt_df, on=stage, how='left')\n",
    "        data_df = data_df[data_df['cnt'] >= min_num].drop(columns=['cnt'])\n",
    "print('Filter after:', len(data_df))\n",
    "\n",
    "item_df = item_df[item_df['item_id'].isin(data_df['item_id'])]  # remove unuseful metadata\n",
    "item_df = item_df.drop_duplicates().reset_index(drop=True)"
   ]
  },
  {
   "cell_type": "markdown",
   "metadata": {
    "cellId": "af79lzr23dmdeccppijhy"
   },
   "source": [
    "### Статистики"
   ]
  },
  {
   "cell_type": "code",
   "execution_count": 8,
   "metadata": {
    "cellId": "sg7si0n6boh8azmksnghbp"
   },
   "outputs": [],
   "source": [
    "n_users = data_df['user_id'].nunique()\n",
    "n_items = data_df['item_id'].nunique()\n",
    "n_clicks = len(data_df)\n",
    "min_time = data_df['time'].min()\n",
    "max_time = data_df['time'].max()"
   ]
  },
  {
   "cell_type": "code",
   "execution_count": 9,
   "metadata": {
    "cellId": "9mfrxdzi1xdj9lvqpjtmwq"
   },
   "outputs": [
    {
     "data": {
      "text/html": [
       "<div>\n",
       "<style scoped>\n",
       "    .dataframe tbody tr th:only-of-type {\n",
       "        vertical-align: middle;\n",
       "    }\n",
       "\n",
       "    .dataframe tbody tr th {\n",
       "        vertical-align: top;\n",
       "    }\n",
       "\n",
       "    .dataframe thead th {\n",
       "        text-align: right;\n",
       "    }\n",
       "</style>\n",
       "<table border=\"1\" class=\"dataframe\">\n",
       "  <thead>\n",
       "    <tr style=\"text-align: right;\">\n",
       "      <th></th>\n",
       "      <th>user_id</th>\n",
       "      <th>item_id</th>\n",
       "      <th>time</th>\n",
       "    </tr>\n",
       "  </thead>\n",
       "  <tbody>\n",
       "    <tr>\n",
       "      <th>0</th>\n",
       "      <td>1104905</td>\n",
       "      <td>4710199010372</td>\n",
       "      <td>2000-11-01</td>\n",
       "    </tr>\n",
       "    <tr>\n",
       "      <th>1</th>\n",
       "      <td>418683</td>\n",
       "      <td>4710857472535</td>\n",
       "      <td>2000-11-01</td>\n",
       "    </tr>\n",
       "    <tr>\n",
       "      <th>2</th>\n",
       "      <td>1057331</td>\n",
       "      <td>4710043654103</td>\n",
       "      <td>2000-11-01</td>\n",
       "    </tr>\n",
       "    <tr>\n",
       "      <th>3</th>\n",
       "      <td>1849332</td>\n",
       "      <td>4710126092129</td>\n",
       "      <td>2000-11-01</td>\n",
       "    </tr>\n",
       "    <tr>\n",
       "      <th>4</th>\n",
       "      <td>1981995</td>\n",
       "      <td>4710176021445</td>\n",
       "      <td>2000-11-01</td>\n",
       "    </tr>\n",
       "    <tr>\n",
       "      <th>...</th>\n",
       "      <td>...</td>\n",
       "      <td>...</td>\n",
       "      <td>...</td>\n",
       "    </tr>\n",
       "    <tr>\n",
       "      <th>686385</th>\n",
       "      <td>234658</td>\n",
       "      <td>4710168182031</td>\n",
       "      <td>2001-02-28</td>\n",
       "    </tr>\n",
       "    <tr>\n",
       "      <th>686386</th>\n",
       "      <td>556941</td>\n",
       "      <td>8888021800401</td>\n",
       "      <td>2001-02-28</td>\n",
       "    </tr>\n",
       "    <tr>\n",
       "      <th>686387</th>\n",
       "      <td>57486</td>\n",
       "      <td>4710731060124</td>\n",
       "      <td>2001-02-28</td>\n",
       "    </tr>\n",
       "    <tr>\n",
       "      <th>686388</th>\n",
       "      <td>733526</td>\n",
       "      <td>4716340052307</td>\n",
       "      <td>2001-02-28</td>\n",
       "    </tr>\n",
       "    <tr>\n",
       "      <th>686389</th>\n",
       "      <td>173704</td>\n",
       "      <td>4714276145315</td>\n",
       "      <td>2001-02-28</td>\n",
       "    </tr>\n",
       "  </tbody>\n",
       "</table>\n",
       "<p>686390 rows × 3 columns</p>\n",
       "</div>"
      ],
      "text/plain": [
       "        user_id        item_id       time\n",
       "0       1104905  4710199010372 2000-11-01\n",
       "1        418683  4710857472535 2000-11-01\n",
       "2       1057331  4710043654103 2000-11-01\n",
       "3       1849332  4710126092129 2000-11-01\n",
       "4       1981995  4710176021445 2000-11-01\n",
       "...         ...            ...        ...\n",
       "686385   234658  4710168182031 2001-02-28\n",
       "686386   556941  8888021800401 2001-02-28\n",
       "686387    57486  4710731060124 2001-02-28\n",
       "686388   733526  4716340052307 2001-02-28\n",
       "686389   173704  4714276145315 2001-02-28\n",
       "\n",
       "[686390 rows x 3 columns]"
      ]
     },
     "execution_count": 9,
     "metadata": {},
     "output_type": "execute_result"
    }
   ],
   "source": [
    "data_df"
   ]
  },
  {
   "cell_type": "code",
   "execution_count": 10,
   "metadata": {
    "cellId": "jn5z4ys276qs8qpj12yvla"
   },
   "outputs": [
    {
     "name": "stdout",
     "output_type": "stream",
     "text": [
      "# Users: 19360\n",
      "# Items: 10561\n",
      "# Interactions: 686390\n",
      "Time Span: 2000-11-01/2001-02-28\n"
     ]
    }
   ],
   "source": [
    "time_format = '%Y-%m-%d'\n",
    "\n",
    "print('# Users:', n_users)\n",
    "print('# Items:', n_items)\n",
    "print('# Interactions:', n_clicks)\n",
    "print('Time Span: {}/{}'.format(\n",
    "    min_time.strftime(time_format),\n",
    "    max_time.strftime(time_format))\n",
    ")"
   ]
  },
  {
   "cell_type": "markdown",
   "metadata": {
    "cellId": "6gqwas2phwag1jgix3hh9m"
   },
   "source": [
    "### Формирование датасета\n",
    "\n",
    "#### По взаимодействиям"
   ]
  },
  {
   "cell_type": "code",
   "execution_count": 11,
   "metadata": {
    "cellId": "28131m7iktcsoqebfxe7xm"
   },
   "outputs": [],
   "source": [
    "np.random.seed(RANDOM_SEED)"
   ]
  },
  {
   "cell_type": "code",
   "execution_count": 12,
   "metadata": {
    "cellId": "va0yys7ea3audvj3yhtogg"
   },
   "outputs": [
    {
     "name": "stdout",
     "output_type": "stream",
     "text": [
      "686390\n"
     ]
    },
    {
     "data": {
      "text/html": [
       "<div>\n",
       "<style scoped>\n",
       "    .dataframe tbody tr th:only-of-type {\n",
       "        vertical-align: middle;\n",
       "    }\n",
       "\n",
       "    .dataframe tbody tr th {\n",
       "        vertical-align: top;\n",
       "    }\n",
       "\n",
       "    .dataframe thead th {\n",
       "        text-align: right;\n",
       "    }\n",
       "</style>\n",
       "<table border=\"1\" class=\"dataframe\">\n",
       "  <thead>\n",
       "    <tr style=\"text-align: right;\">\n",
       "      <th></th>\n",
       "      <th>user_id</th>\n",
       "      <th>item_id</th>\n",
       "      <th>time</th>\n",
       "    </tr>\n",
       "  </thead>\n",
       "  <tbody>\n",
       "    <tr>\n",
       "      <th>0</th>\n",
       "      <td>45902</td>\n",
       "      <td>4710147100018</td>\n",
       "      <td>2000-11-01</td>\n",
       "    </tr>\n",
       "    <tr>\n",
       "      <th>1</th>\n",
       "      <td>45902</td>\n",
       "      <td>4710088434692</td>\n",
       "      <td>2000-11-01</td>\n",
       "    </tr>\n",
       "    <tr>\n",
       "      <th>2</th>\n",
       "      <td>45902</td>\n",
       "      <td>4710594912028</td>\n",
       "      <td>2000-11-01</td>\n",
       "    </tr>\n",
       "    <tr>\n",
       "      <th>3</th>\n",
       "      <td>45902</td>\n",
       "      <td>4710285000126</td>\n",
       "      <td>2000-11-01</td>\n",
       "    </tr>\n",
       "    <tr>\n",
       "      <th>4</th>\n",
       "      <td>45957</td>\n",
       "      <td>4710265849066</td>\n",
       "      <td>2000-11-01</td>\n",
       "    </tr>\n",
       "  </tbody>\n",
       "</table>\n",
       "</div>"
      ],
      "text/plain": [
       "   user_id        item_id       time\n",
       "0    45902  4710147100018 2000-11-01\n",
       "1    45902  4710088434692 2000-11-01\n",
       "2    45902  4710594912028 2000-11-01\n",
       "3    45902  4710285000126 2000-11-01\n",
       "4    45957  4710265849066 2000-11-01"
      ]
     },
     "execution_count": 12,
     "metadata": {},
     "output_type": "execute_result"
    }
   ],
   "source": [
    "out_df = data_df[['user_id', 'item_id', 'time']]\n",
    "out_df = out_df.drop_duplicates(['user_id', 'item_id', 'time'])\n",
    "out_df.sort_values(by=['time', 'user_id'], kind='mergesort', inplace=True)\n",
    "out_df = out_df.reset_index(drop=True)\n",
    "print(len(out_df))\n",
    "out_df.head()"
   ]
  },
  {
   "cell_type": "code",
   "execution_count": 13,
   "metadata": {
    "cellId": "fyydpzfuje27l62dfozsl"
   },
   "outputs": [
    {
     "data": {
      "text/html": [
       "<div>\n",
       "<style scoped>\n",
       "    .dataframe tbody tr th:only-of-type {\n",
       "        vertical-align: middle;\n",
       "    }\n",
       "\n",
       "    .dataframe tbody tr th {\n",
       "        vertical-align: top;\n",
       "    }\n",
       "\n",
       "    .dataframe thead th {\n",
       "        text-align: right;\n",
       "    }\n",
       "</style>\n",
       "<table border=\"1\" class=\"dataframe\">\n",
       "  <thead>\n",
       "    <tr style=\"text-align: right;\">\n",
       "      <th></th>\n",
       "      <th>user_id</th>\n",
       "      <th>item_id</th>\n",
       "      <th>time</th>\n",
       "    </tr>\n",
       "  </thead>\n",
       "  <tbody>\n",
       "    <tr>\n",
       "      <th>0</th>\n",
       "      <td>214</td>\n",
       "      <td>3294</td>\n",
       "      <td>2000-11-01</td>\n",
       "    </tr>\n",
       "    <tr>\n",
       "      <th>1</th>\n",
       "      <td>214</td>\n",
       "      <td>2598</td>\n",
       "      <td>2000-11-01</td>\n",
       "    </tr>\n",
       "    <tr>\n",
       "      <th>2</th>\n",
       "      <td>214</td>\n",
       "      <td>5001</td>\n",
       "      <td>2000-11-01</td>\n",
       "    </tr>\n",
       "    <tr>\n",
       "      <th>3</th>\n",
       "      <td>214</td>\n",
       "      <td>3910</td>\n",
       "      <td>2000-11-01</td>\n",
       "    </tr>\n",
       "    <tr>\n",
       "      <th>4</th>\n",
       "      <td>215</td>\n",
       "      <td>3885</td>\n",
       "      <td>2000-11-01</td>\n",
       "    </tr>\n",
       "  </tbody>\n",
       "</table>\n",
       "</div>"
      ],
      "text/plain": [
       "   user_id  item_id       time\n",
       "0      214     3294 2000-11-01\n",
       "1      214     2598 2000-11-01\n",
       "2      214     5001 2000-11-01\n",
       "3      214     3910 2000-11-01\n",
       "4      215     3885 2000-11-01"
      ]
     },
     "execution_count": 13,
     "metadata": {},
     "output_type": "execute_result"
    }
   ],
   "source": [
    "# reindex (start from 1)\n",
    "uids = sorted(out_df['user_id'].unique())\n",
    "user2id = dict(zip(uids, range(1, len(uids) + 1)))\n",
    "iids = sorted(out_df['item_id'].unique())\n",
    "item2id = dict(zip(iids, range(1, len(iids) + 1)))\n",
    "\n",
    "out_df['user_id'] = out_df['user_id'].apply(lambda x: user2id[x])\n",
    "out_df['item_id'] = out_df['item_id'].apply(lambda x: item2id[x])\n",
    "out_df.head()"
   ]
  },
  {
   "cell_type": "code",
   "execution_count": 14,
   "metadata": {
    "cellId": "09qqen4t76ztexkw21hwtv"
   },
   "outputs": [],
   "source": [
    "# leave one out spliting\n",
    "clicked_item_set = dict()\n",
    "for user_id, seq_df in out_df.groupby('user_id'):\n",
    "    clicked_item_set[user_id] = set(seq_df['item_id'].values.tolist())\n",
    "    \n",
    "def generate_dev_test(data_df):\n",
    "    result_dfs = []\n",
    "    n_items = data_df['item_id'].value_counts().size\n",
    "    for idx in range(2):\n",
    "        result_df = data_df.groupby('user_id').tail(1).copy()\n",
    "        data_df = data_df.drop(result_df.index)\n",
    "        neg_items = np.random.randint(1, n_items + 1, (len(result_df), NEG_ITEMS))\n",
    "        for i, uid in enumerate(result_df['user_id'].values):\n",
    "            user_clicked = clicked_item_set[uid]\n",
    "            for j in range(len(neg_items[i])):\n",
    "                while neg_items[i][j] in user_clicked:\n",
    "                    neg_items[i][j] = np.random.randint(1, n_items + 1)\n",
    "        result_df['neg_items'] = neg_items.tolist()\n",
    "        result_dfs.append(result_df)\n",
    "    return result_dfs, data_df"
   ]
  },
  {
   "cell_type": "code",
   "execution_count": 15,
   "metadata": {
    "cellId": "7nwf9mu4o5ghyrtche6c08"
   },
   "outputs": [
    {
     "data": {
      "text/plain": [
       "(647670, 19360, 19360)"
      ]
     },
     "execution_count": 15,
     "metadata": {},
     "output_type": "execute_result"
    }
   ],
   "source": [
    "leave_df = out_df.groupby('user_id').head(1)\n",
    "data_df = out_df.drop(leave_df.index)\n",
    "\n",
    "[test_df, dev_df], data_df = generate_dev_test(data_df)\n",
    "train_df = pd.concat([leave_df, data_df]).sort_index()\n",
    "\n",
    "len(train_df), len(dev_df), len(test_df)"
   ]
  },
  {
   "cell_type": "code",
   "execution_count": 16,
   "metadata": {
    "cellId": "or823x21x8e39hpzx47uqt"
   },
   "outputs": [],
   "source": [
    "# after splitting, convert time to timestamp\n",
    "train_df['time'] = train_df['time'].apply(lambda x: x.timestamp())\n",
    "dev_df['time'] = dev_df['time'].apply(lambda x: x.timestamp())\n",
    "test_df['time'] = test_df['time'].apply(lambda x: x.timestamp())"
   ]
  },
  {
   "cell_type": "code",
   "execution_count": 17,
   "metadata": {
    "cellId": "pbv30sqes5dvnz0jgvurm"
   },
   "outputs": [],
   "source": [
    "# save results\n",
    "train_df.to_csv(os.path.join(RAW_PATH, 'train.csv'), sep='\\t', index=False)\n",
    "dev_df.to_csv(os.path.join(RAW_PATH, 'dev.csv'), sep='\\t', index=False)\n",
    "test_df.to_csv(os.path.join(RAW_PATH, 'test.csv'), sep='\\t', index=False)"
   ]
  },
  {
   "cell_type": "markdown",
   "metadata": {
    "cellId": "l6ut1gnx99o08c3vln9br9b"
   },
   "source": [
    "### Граф знаний"
   ]
  },
  {
   "cell_type": "code",
   "execution_count": 18,
   "metadata": {
    "cellId": "vr08j8upe91df5oqtyl0q"
   },
   "outputs": [],
   "source": [
    "cids = sorted(item_df['i_category'].unique())\n",
    "cat2id = dict(zip(cids, range(1, len(cids) + 1)))\n",
    "# cat2id "
   ]
  },
  {
   "cell_type": "code",
   "execution_count": 19,
   "metadata": {
    "cellId": "itg59clw21o3ss9j5ljc7e"
   },
   "outputs": [],
   "source": [
    "item_df['i_category'] = item_df['i_category'].apply(lambda x: cat2id[x])\n",
    "item_df['item_id'] = item_df['item_id'].apply(lambda x: item2id[x])"
   ]
  },
  {
   "cell_type": "code",
   "execution_count": 20,
   "metadata": {
    "cellId": "43b6vtt6tm8fg8547x0h7k"
   },
   "outputs": [
    {
     "data": {
      "text/plain": [
       "10561"
      ]
     },
     "execution_count": 20,
     "metadata": {},
     "output_type": "execute_result"
    }
   ],
   "source": [
    "train_df['item_id'].values.max()"
   ]
  },
  {
   "cell_type": "code",
   "execution_count": 23,
   "metadata": {
    "cellId": "uq4xliuqcch2r8chlh8ws"
   },
   "outputs": [],
   "source": [
    "from collections import Counter, defaultdict\n",
    "\n",
    "# complement\n",
    "bought_item_set = defaultdict(list)\n",
    "for user_id, seq_df in train_df.groupby('user_id'):\n",
    "    bought_item_set[user_id] = [x for x in set(seq_df['item_id'].values.tolist())]\n",
    "    \n",
    "bought_item_set = dict(bought_item_set)\n",
    "occurences_dict = defaultdict(list)\n",
    "items = set(sorted(item_df['item_id'].unique()))\n",
    "for ls in bought_item_set.values():\n",
    "    for item in ls:\n",
    "        occurences_dict[item] += [x for x in ls if x!=item]\n",
    "            \n",
    "occurences_dict = dict(occurences_dict)\n",
    "most_related_items = defaultdict(list)\n",
    "for k, v in occurences_dict.items():\n",
    "    most_common_items = Counter(v).most_common(5)\n",
    "    most_related_items[k] += [x[0] for x in most_common_items]\n",
    "    \n",
    "most_related_items = dict(most_related_items)\n",
    "\n",
    "# substitutes\n",
    "category_items = {}\n",
    "for category in item_df.i_category.unique():\n",
    "    category_items[category] = [x for x in item_df[item_df.i_category==category]['item_id'].value_counts().head(10).index]\n",
    "    \n",
    "item_substitutes = {}\n",
    "for item in item_df.item_id.unique():\n",
    "    category = item_df[item_df.item_id==item].i_category.values[0]\n",
    "    substitutes = category_items.get(category, [])\n",
    "    item_substitutes[item] = [x for x in substitutes if x!= item]"
   ]
  },
  {
   "cell_type": "code",
   "execution_count": 24,
   "metadata": {
    "cellId": "47glqas089hwmkee2s0cva"
   },
   "outputs": [],
   "source": [
    "item_df['r_complement'] = item_df.item_id.apply(lambda x: most_related_items.get(x, []))\n",
    "item_df['r_substitute'] = item_df.item_id.apply(lambda x: item_substitutes.get(x, []))"
   ]
  },
  {
   "cell_type": "code",
   "execution_count": 25,
   "metadata": {
    "cellId": "p50xmbsywihe6cvwoulx8"
   },
   "outputs": [
    {
     "data": {
      "text/html": [
       "<div>\n",
       "<style scoped>\n",
       "    .dataframe tbody tr th:only-of-type {\n",
       "        vertical-align: middle;\n",
       "    }\n",
       "\n",
       "    .dataframe tbody tr th {\n",
       "        vertical-align: top;\n",
       "    }\n",
       "\n",
       "    .dataframe thead th {\n",
       "        text-align: right;\n",
       "    }\n",
       "</style>\n",
       "<table border=\"1\" class=\"dataframe\">\n",
       "  <thead>\n",
       "    <tr style=\"text-align: right;\">\n",
       "      <th></th>\n",
       "      <th>item_id</th>\n",
       "      <th>i_category</th>\n",
       "      <th>r_complement</th>\n",
       "      <th>r_substitute</th>\n",
       "    </tr>\n",
       "  </thead>\n",
       "  <tbody>\n",
       "    <tr>\n",
       "      <th>0</th>\n",
       "      <td>3638</td>\n",
       "      <td>208</td>\n",
       "      <td>[8154, 2459, 6013, 2498, 1674]</td>\n",
       "      <td>[3020, 2553, 2460, 2522, 3827, 2459, 1426, 245...</td>\n",
       "    </tr>\n",
       "    <tr>\n",
       "      <th>1</th>\n",
       "      <td>5515</td>\n",
       "      <td>263</td>\n",
       "      <td>[8154, 6013, 6163, 6167, 8967]</td>\n",
       "      <td>[8255, 6301, 8641, 6466, 6467, 5510, 5511, 173...</td>\n",
       "    </tr>\n",
       "    <tr>\n",
       "      <th>2</th>\n",
       "      <td>2061</td>\n",
       "      <td>61</td>\n",
       "      <td>[6013, 8154, 5580, 1980, 3051]</td>\n",
       "      <td>[6709, 2062, 4757, 4051, 10258, 10257, 10256, ...</td>\n",
       "    </tr>\n",
       "    <tr>\n",
       "      <th>3</th>\n",
       "      <td>3173</td>\n",
       "      <td>264</td>\n",
       "      <td>[6173, 8154, 1486, 6171, 1477]</td>\n",
       "      <td>[2618, 2622, 6529, 7873, 9143, 8328, 7564, 756...</td>\n",
       "    </tr>\n",
       "    <tr>\n",
       "      <th>4</th>\n",
       "      <td>3488</td>\n",
       "      <td>18</td>\n",
       "      <td>[1707, 8154, 6013, 1477, 5785]</td>\n",
       "      <td>[9626, 1030, 10413, 10412, 10411, 10410, 10409...</td>\n",
       "    </tr>\n",
       "  </tbody>\n",
       "</table>\n",
       "</div>"
      ],
      "text/plain": [
       "   item_id  i_category                    r_complement  \\\n",
       "0     3638         208  [8154, 2459, 6013, 2498, 1674]   \n",
       "1     5515         263  [8154, 6013, 6163, 6167, 8967]   \n",
       "2     2061          61  [6013, 8154, 5580, 1980, 3051]   \n",
       "3     3173         264  [6173, 8154, 1486, 6171, 1477]   \n",
       "4     3488          18  [1707, 8154, 6013, 1477, 5785]   \n",
       "\n",
       "                                        r_substitute  \n",
       "0  [3020, 2553, 2460, 2522, 3827, 2459, 1426, 245...  \n",
       "1  [8255, 6301, 8641, 6466, 6467, 5510, 5511, 173...  \n",
       "2  [6709, 2062, 4757, 4051, 10258, 10257, 10256, ...  \n",
       "3  [2618, 2622, 6529, 7873, 9143, 8328, 7564, 756...  \n",
       "4  [9626, 1030, 10413, 10412, 10411, 10410, 10409...  "
      ]
     },
     "execution_count": 25,
     "metadata": {},
     "output_type": "execute_result"
    }
   ],
   "source": [
    "item_df.head()"
   ]
  },
  {
   "cell_type": "code",
   "execution_count": 26,
   "metadata": {
    "cellId": "mu1w9sv1cm47qnng000x1"
   },
   "outputs": [],
   "source": [
    "# save results\n",
    "item_df.to_csv(os.path.join(RAW_PATH, 'item_meta.csv'), sep='\\t', index=False)"
   ]
  }
 ],
 "metadata": {
  "kernelspec": {
   "display_name": "Yandex DataSphere Kernel",
   "language": "python",
   "name": "python3"
  },
  "language_info": {
   "codemirror_mode": {
    "name": "ipython",
    "version": 3
   },
   "file_extension": ".py",
   "mimetype": "text/x-python",
   "name": "python",
   "nbconvert_exporter": "python",
   "pygments_lexer": "ipython3",
   "version": "3.7.7"
  },
  "notebookId": "37bc37b0-7ac3-4e38-b7bf-f6e8e12a74ef",
  "notebookPath": "ReChorus/data/ta_feng [upd].ipynb"
 },
 "nbformat": 4,
 "nbformat_minor": 4
}

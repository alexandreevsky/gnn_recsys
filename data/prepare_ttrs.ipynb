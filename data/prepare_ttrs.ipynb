{
 "cells": [
  {
   "cell_type": "markdown",
   "metadata": {
    "cellId": "kz1xon1q06751eb3x6yjq"
   },
   "source": [
    "## Подготовка датасета TTRS"
   ]
  },
  {
   "cell_type": "code",
   "execution_count": 28,
   "metadata": {
    "cellId": "wtf3snx8mnttwp5prupiq"
   },
   "outputs": [],
   "source": [
    "from datetime import datetime\n",
    "from collections import Counter, defaultdict\n",
    "\n",
    "import os\n",
    "import re\n",
    "import pandas as pd\n",
    "import numpy as np"
   ]
  },
  {
   "cell_type": "code",
   "execution_count": 29,
   "metadata": {
    "cellId": "y9m2roqnar9cxc68lhkrl"
   },
   "outputs": [],
   "source": [
    "DATASET = 'ttrs'\n",
    "RAW_PATH = os.path.join('./data/', DATASET)\n",
    "\n",
    "RANDOM_SEED = 0\n",
    "NEG_ITEMS = 99"
   ]
  },
  {
   "cell_type": "code",
   "execution_count": 30,
   "metadata": {
    "cellId": "7ogfmzq972gmcwj8ekjjn"
   },
   "outputs": [
    {
     "data": {
      "text/plain": [
       "'./data/ttrs'"
      ]
     },
     "execution_count": 30,
     "metadata": {},
     "output_type": "execute_result"
    }
   ],
   "source": [
    "RAW_PATH"
   ]
  },
  {
   "cell_type": "markdown",
   "metadata": {
    "cellId": "b6gpw4jxx4dol7d20mykzn"
   },
   "source": [
    "### Загрузка данных"
   ]
  },
  {
   "cell_type": "code",
   "execution_count": 32,
   "metadata": {
    "cellId": "gt1tqwpl9tdacnzcwhvmwd"
   },
   "outputs": [],
   "source": [
    "file_path = RAW_PATH + '/test_transactions.csv'\n",
    "data = pd.read_csv(file_path).dropna().reset_index(drop=True)\n",
    "data['transaction_dttm'] = data['transaction_dttm'].apply(lambda x: datetime.strptime(x, '%Y-%m-%d'))\n",
    "data = data[data.transaction_type_desc=='Покупка']\n",
    "data_df = data[['party_rk', 'merchant_group_rk', 'transaction_dttm']]\n",
    "item_df = data[['merchant_group_rk', 'category']]"
   ]
  },
  {
   "cell_type": "code",
   "execution_count": 33,
   "metadata": {
    "cellId": "tzztu1gp7llhnyng4rsp"
   },
   "outputs": [
    {
     "data": {
      "text/html": [
       "<div>\n",
       "<style scoped>\n",
       "    .dataframe tbody tr th:only-of-type {\n",
       "        vertical-align: middle;\n",
       "    }\n",
       "\n",
       "    .dataframe tbody tr th {\n",
       "        vertical-align: top;\n",
       "    }\n",
       "\n",
       "    .dataframe thead th {\n",
       "        text-align: right;\n",
       "    }\n",
       "</style>\n",
       "<table border=\"1\" class=\"dataframe\">\n",
       "  <thead>\n",
       "    <tr style=\"text-align: right;\">\n",
       "      <th></th>\n",
       "      <th>party_rk</th>\n",
       "      <th>account_rk</th>\n",
       "      <th>financial_account_type_cd</th>\n",
       "      <th>transaction_dttm</th>\n",
       "      <th>transaction_type_desc</th>\n",
       "      <th>transaction_amt_rur</th>\n",
       "      <th>merchant_rk</th>\n",
       "      <th>merchant_type</th>\n",
       "      <th>merchant_group_rk</th>\n",
       "      <th>category</th>\n",
       "    </tr>\n",
       "  </thead>\n",
       "  <tbody>\n",
       "    <tr>\n",
       "      <th>991468</th>\n",
       "      <td>92092</td>\n",
       "      <td>118227</td>\n",
       "      <td>2</td>\n",
       "      <td>2020-02-29</td>\n",
       "      <td>Покупка</td>\n",
       "      <td>74.98</td>\n",
       "      <td>1735901.0</td>\n",
       "      <td>286.0</td>\n",
       "      <td>878.0</td>\n",
       "      <td>Супермаркеты</td>\n",
       "    </tr>\n",
       "    <tr>\n",
       "      <th>991469</th>\n",
       "      <td>27858</td>\n",
       "      <td>26443</td>\n",
       "      <td>2</td>\n",
       "      <td>2020-02-29</td>\n",
       "      <td>Покупка</td>\n",
       "      <td>587.96</td>\n",
       "      <td>2392692.0</td>\n",
       "      <td>336.0</td>\n",
       "      <td>930.0</td>\n",
       "      <td>Супермаркеты</td>\n",
       "    </tr>\n",
       "    <tr>\n",
       "      <th>991470</th>\n",
       "      <td>71242</td>\n",
       "      <td>85948</td>\n",
       "      <td>2</td>\n",
       "      <td>2020-02-29</td>\n",
       "      <td>Покупка</td>\n",
       "      <td>60.50</td>\n",
       "      <td>96766.0</td>\n",
       "      <td>286.0</td>\n",
       "      <td>1350.0</td>\n",
       "      <td>Супермаркеты</td>\n",
       "    </tr>\n",
       "    <tr>\n",
       "      <th>991471</th>\n",
       "      <td>49382</td>\n",
       "      <td>124549</td>\n",
       "      <td>1</td>\n",
       "      <td>2020-02-29</td>\n",
       "      <td>Покупка</td>\n",
       "      <td>161.00</td>\n",
       "      <td>800756.0</td>\n",
       "      <td>286.0</td>\n",
       "      <td>866.0</td>\n",
       "      <td>Супермаркеты</td>\n",
       "    </tr>\n",
       "    <tr>\n",
       "      <th>991474</th>\n",
       "      <td>89344</td>\n",
       "      <td>118613</td>\n",
       "      <td>2</td>\n",
       "      <td>2020-02-29</td>\n",
       "      <td>Покупка</td>\n",
       "      <td>378.00</td>\n",
       "      <td>883431.0</td>\n",
       "      <td>330.0</td>\n",
       "      <td>1996.0</td>\n",
       "      <td>Фаст Фуд</td>\n",
       "    </tr>\n",
       "  </tbody>\n",
       "</table>\n",
       "</div>"
      ],
      "text/plain": [
       "        party_rk  account_rk  financial_account_type_cd transaction_dttm  \\\n",
       "991468     92092      118227                          2       2020-02-29   \n",
       "991469     27858       26443                          2       2020-02-29   \n",
       "991470     71242       85948                          2       2020-02-29   \n",
       "991471     49382      124549                          1       2020-02-29   \n",
       "991474     89344      118613                          2       2020-02-29   \n",
       "\n",
       "       transaction_type_desc  transaction_amt_rur  merchant_rk  merchant_type  \\\n",
       "991468               Покупка                74.98    1735901.0          286.0   \n",
       "991469               Покупка               587.96    2392692.0          336.0   \n",
       "991470               Покупка                60.50      96766.0          286.0   \n",
       "991471               Покупка               161.00     800756.0          286.0   \n",
       "991474               Покупка               378.00     883431.0          330.0   \n",
       "\n",
       "        merchant_group_rk      category  \n",
       "991468              878.0  Супермаркеты  \n",
       "991469              930.0  Супермаркеты  \n",
       "991470             1350.0  Супермаркеты  \n",
       "991471              866.0  Супермаркеты  \n",
       "991474             1996.0      Фаст Фуд  "
      ]
     },
     "execution_count": 33,
     "metadata": {},
     "output_type": "execute_result"
    }
   ],
   "source": [
    "data.tail()"
   ]
  },
  {
   "cell_type": "code",
   "execution_count": 34,
   "metadata": {
    "cellId": "rg1t4fpvdspl41enadcpit"
   },
   "outputs": [
    {
     "data": {
      "text/html": [
       "<div>\n",
       "<style scoped>\n",
       "    .dataframe tbody tr th:only-of-type {\n",
       "        vertical-align: middle;\n",
       "    }\n",
       "\n",
       "    .dataframe tbody tr th {\n",
       "        vertical-align: top;\n",
       "    }\n",
       "\n",
       "    .dataframe thead th {\n",
       "        text-align: right;\n",
       "    }\n",
       "</style>\n",
       "<table border=\"1\" class=\"dataframe\">\n",
       "  <thead>\n",
       "    <tr style=\"text-align: right;\">\n",
       "      <th></th>\n",
       "      <th>user_id</th>\n",
       "      <th>item_id</th>\n",
       "      <th>time</th>\n",
       "    </tr>\n",
       "  </thead>\n",
       "  <tbody>\n",
       "    <tr>\n",
       "      <th>0</th>\n",
       "      <td>56472</td>\n",
       "      <td>425.0</td>\n",
       "      <td>2020-01-01</td>\n",
       "    </tr>\n",
       "    <tr>\n",
       "      <th>1</th>\n",
       "      <td>49587</td>\n",
       "      <td>461.0</td>\n",
       "      <td>2020-01-01</td>\n",
       "    </tr>\n",
       "    <tr>\n",
       "      <th>2</th>\n",
       "      <td>13825</td>\n",
       "      <td>904.0</td>\n",
       "      <td>2020-01-01</td>\n",
       "    </tr>\n",
       "    <tr>\n",
       "      <th>3</th>\n",
       "      <td>44451</td>\n",
       "      <td>546.0</td>\n",
       "      <td>2020-01-01</td>\n",
       "    </tr>\n",
       "    <tr>\n",
       "      <th>4</th>\n",
       "      <td>90431</td>\n",
       "      <td>341.0</td>\n",
       "      <td>2020-01-01</td>\n",
       "    </tr>\n",
       "  </tbody>\n",
       "</table>\n",
       "</div>"
      ],
      "text/plain": [
       "   user_id  item_id       time\n",
       "0    56472    425.0 2020-01-01\n",
       "1    49587    461.0 2020-01-01\n",
       "2    13825    904.0 2020-01-01\n",
       "3    44451    546.0 2020-01-01\n",
       "4    90431    341.0 2020-01-01"
      ]
     },
     "execution_count": 34,
     "metadata": {},
     "output_type": "execute_result"
    }
   ],
   "source": [
    "data_df.columns = ['user_id', 'item_id', 'time']\n",
    "item_df.columns = ['item_id', 'i_category']\n",
    "data_df.head()"
   ]
  },
  {
   "cell_type": "code",
   "execution_count": 35,
   "metadata": {
    "cellId": "ru39eaz0rp8cjyrawtnrf"
   },
   "outputs": [
    {
     "name": "stdout",
     "output_type": "stream",
     "text": [
      "Filter before: 948891\n",
      "Filter after: 894949\n"
     ]
    }
   ],
   "source": [
    "# Оставляем товары и покупателей с 10 транзакциями и более\n",
    "min_num = 10\n",
    "\n",
    "print('Filter before:', len(data_df))\n",
    "filter_before = -1\n",
    "while filter_before != len(data_df):\n",
    "    filter_before = len(data_df)\n",
    "    for stage in ['user_id', 'item_id']:\n",
    "        val_cnt = data_df[stage].value_counts()\n",
    "        cnt_df = pd.DataFrame({stage: val_cnt.index, 'cnt': val_cnt.values})\n",
    "        data_df = pd.merge(data_df, cnt_df, on=stage, how='left')\n",
    "        data_df = data_df[data_df['cnt'] >= min_num].drop(columns=['cnt'])\n",
    "print('Filter after:', len(data_df))\n",
    "\n",
    "item_df = item_df[item_df['item_id'].isin(data_df['item_id'])]  # remove unuseful metadata\n",
    "item_df = item_df.drop_duplicates().reset_index(drop=True)"
   ]
  },
  {
   "cell_type": "markdown",
   "metadata": {
    "cellId": "af79lzr23dmdeccppijhy"
   },
   "source": [
    "### Статистики"
   ]
  },
  {
   "cell_type": "code",
   "execution_count": 36,
   "metadata": {
    "cellId": "sg7si0n6boh8azmksnghbp"
   },
   "outputs": [],
   "source": [
    "n_users = data_df['user_id'].value_counts().size\n",
    "n_items = data_df['item_id'].value_counts().size\n",
    "n_clicks = len(data_df)\n",
    "min_time = data_df['time'].min()\n",
    "max_time = data_df['time'].max()"
   ]
  },
  {
   "cell_type": "code",
   "execution_count": 37,
   "metadata": {
    "cellId": "jn5z4ys276qs8qpj12yvla"
   },
   "outputs": [
    {
     "name": "stdout",
     "output_type": "stream",
     "text": [
      "# Users: 20464\n",
      "# Items: 1354\n",
      "# Interactions: 894949\n",
      "Time Span: 2020-01-01 - 2020-02-29\n",
      "Average bucket length: 1.9693056866667107\n"
     ]
    }
   ],
   "source": [
    "time_format = '%Y-%m-%d'\n",
    "\n",
    "print('# Users:', n_users)\n",
    "print('# Items:', n_items)\n",
    "print('# Interactions:', n_clicks)\n",
    "print('Time Span: {} - {}'.format(\n",
    "    min_time.strftime(time_format),\n",
    "    max_time.strftime(time_format)\n",
    "))\n",
    "print(f\"Average bucket length: {data_df.groupby(['user_id', 'time']).agg({'item_id': 'count'}).item_id.values.mean()}\")"
   ]
  },
  {
   "cell_type": "markdown",
   "metadata": {
    "cellId": "6gqwas2phwag1jgix3hh9m"
   },
   "source": [
    "### Формирование датасета\n",
    "\n",
    "#### По взаимодействиям"
   ]
  },
  {
   "cell_type": "code",
   "execution_count": 38,
   "metadata": {
    "cellId": "28131m7iktcsoqebfxe7xm"
   },
   "outputs": [],
   "source": [
    "np.random.seed(RANDOM_SEED)"
   ]
  },
  {
   "cell_type": "code",
   "execution_count": 39,
   "metadata": {
    "cellId": "va0yys7ea3audvj3yhtogg"
   },
   "outputs": [
    {
     "data": {
      "text/html": [
       "<div>\n",
       "<style scoped>\n",
       "    .dataframe tbody tr th:only-of-type {\n",
       "        vertical-align: middle;\n",
       "    }\n",
       "\n",
       "    .dataframe tbody tr th {\n",
       "        vertical-align: top;\n",
       "    }\n",
       "\n",
       "    .dataframe thead th {\n",
       "        text-align: right;\n",
       "    }\n",
       "</style>\n",
       "<table border=\"1\" class=\"dataframe\">\n",
       "  <thead>\n",
       "    <tr style=\"text-align: right;\">\n",
       "      <th></th>\n",
       "      <th>user_id</th>\n",
       "      <th>item_id</th>\n",
       "      <th>time</th>\n",
       "    </tr>\n",
       "  </thead>\n",
       "  <tbody>\n",
       "    <tr>\n",
       "      <th>0</th>\n",
       "      <td>14</td>\n",
       "      <td>811.0</td>\n",
       "      <td>2020-01-01</td>\n",
       "    </tr>\n",
       "    <tr>\n",
       "      <th>1</th>\n",
       "      <td>32</td>\n",
       "      <td>878.0</td>\n",
       "      <td>2020-01-01</td>\n",
       "    </tr>\n",
       "    <tr>\n",
       "      <th>2</th>\n",
       "      <td>61</td>\n",
       "      <td>1310.0</td>\n",
       "      <td>2020-01-01</td>\n",
       "    </tr>\n",
       "    <tr>\n",
       "      <th>3</th>\n",
       "      <td>64</td>\n",
       "      <td>2213.0</td>\n",
       "      <td>2020-01-01</td>\n",
       "    </tr>\n",
       "    <tr>\n",
       "      <th>4</th>\n",
       "      <td>64</td>\n",
       "      <td>779.0</td>\n",
       "      <td>2020-01-01</td>\n",
       "    </tr>\n",
       "  </tbody>\n",
       "</table>\n",
       "</div>"
      ],
      "text/plain": [
       "   user_id  item_id       time\n",
       "0       14    811.0 2020-01-01\n",
       "1       32    878.0 2020-01-01\n",
       "2       61   1310.0 2020-01-01\n",
       "3       64   2213.0 2020-01-01\n",
       "4       64    779.0 2020-01-01"
      ]
     },
     "execution_count": 39,
     "metadata": {},
     "output_type": "execute_result"
    }
   ],
   "source": [
    "out_df = data_df[['user_id', 'item_id', 'time']]\n",
    "out_df = out_df.drop_duplicates(['user_id', 'item_id', 'time'])\n",
    "out_df.sort_values(by=['time', 'user_id'], kind='mergesort', inplace=True)\n",
    "out_df = out_df.reset_index(drop=True)\n",
    "out_df.head()"
   ]
  },
  {
   "cell_type": "code",
   "execution_count": 40,
   "metadata": {
    "cellId": "fyydpzfuje27l62dfozsl"
   },
   "outputs": [
    {
     "data": {
      "text/html": [
       "<div>\n",
       "<style scoped>\n",
       "    .dataframe tbody tr th:only-of-type {\n",
       "        vertical-align: middle;\n",
       "    }\n",
       "\n",
       "    .dataframe tbody tr th {\n",
       "        vertical-align: top;\n",
       "    }\n",
       "\n",
       "    .dataframe thead th {\n",
       "        text-align: right;\n",
       "    }\n",
       "</style>\n",
       "<table border=\"1\" class=\"dataframe\">\n",
       "  <thead>\n",
       "    <tr style=\"text-align: right;\">\n",
       "      <th></th>\n",
       "      <th>user_id</th>\n",
       "      <th>item_id</th>\n",
       "      <th>time</th>\n",
       "    </tr>\n",
       "  </thead>\n",
       "  <tbody>\n",
       "    <tr>\n",
       "      <th>0</th>\n",
       "      <td>2</td>\n",
       "      <td>351</td>\n",
       "      <td>2020-01-01</td>\n",
       "    </tr>\n",
       "    <tr>\n",
       "      <th>1</th>\n",
       "      <td>5</td>\n",
       "      <td>383</td>\n",
       "      <td>2020-01-01</td>\n",
       "    </tr>\n",
       "    <tr>\n",
       "      <th>2</th>\n",
       "      <td>13</td>\n",
       "      <td>657</td>\n",
       "      <td>2020-01-01</td>\n",
       "    </tr>\n",
       "    <tr>\n",
       "      <th>3</th>\n",
       "      <td>14</td>\n",
       "      <td>1112</td>\n",
       "      <td>2020-01-01</td>\n",
       "    </tr>\n",
       "    <tr>\n",
       "      <th>4</th>\n",
       "      <td>14</td>\n",
       "      <td>337</td>\n",
       "      <td>2020-01-01</td>\n",
       "    </tr>\n",
       "  </tbody>\n",
       "</table>\n",
       "</div>"
      ],
      "text/plain": [
       "   user_id  item_id       time\n",
       "0        2      351 2020-01-01\n",
       "1        5      383 2020-01-01\n",
       "2       13      657 2020-01-01\n",
       "3       14     1112 2020-01-01\n",
       "4       14      337 2020-01-01"
      ]
     },
     "execution_count": 40,
     "metadata": {},
     "output_type": "execute_result"
    }
   ],
   "source": [
    "# reindex (start from 1)\n",
    "uids = sorted(out_df['user_id'].unique())\n",
    "user2id = dict(zip(uids, range(1, len(uids) + 1)))\n",
    "iids = sorted(out_df['item_id'].unique())\n",
    "item2id = dict(zip(iids, range(1, len(iids) + 1)))\n",
    "\n",
    "out_df['user_id'] = out_df['user_id'].apply(lambda x: user2id[x])\n",
    "out_df['item_id'] = out_df['item_id'].apply(lambda x: item2id[x])\n",
    "out_df.head()"
   ]
  },
  {
   "cell_type": "code",
   "execution_count": 41,
   "metadata": {
    "cellId": "92f16kk0avg160enxvyfoi"
   },
   "outputs": [],
   "source": [
    "# leave one out spliting\n",
    "clicked_item_set = dict()\n",
    "for user_id, seq_df in out_df.groupby('user_id'):\n",
    "    clicked_item_set[user_id] = set(seq_df['item_id'].values.tolist())\n",
    "    \n",
    "def generate_dev_test(data_df):\n",
    "    result_dfs = []\n",
    "    n_items = data_df['item_id'].value_counts().size\n",
    "    for idx in range(2):\n",
    "        result_df = data_df.groupby('user_id').tail(1).copy()\n",
    "        data_df = data_df.drop(result_df.index)\n",
    "        neg_items = np.random.randint(1, n_items + 1, (len(result_df), NEG_ITEMS))\n",
    "        for i, uid in enumerate(result_df['user_id'].values):\n",
    "            user_clicked = clicked_item_set[uid]\n",
    "            for j in range(len(neg_items[i])):\n",
    "                while neg_items[i][j] in user_clicked:\n",
    "                    neg_items[i][j] = np.random.randint(1, n_items + 1)\n",
    "        result_df['neg_items'] = neg_items.tolist()\n",
    "        result_dfs.append(result_df)\n",
    "    return result_dfs, data_df"
   ]
  },
  {
   "cell_type": "code",
   "execution_count": 42,
   "metadata": {
    "cellId": "vzeckdddl0bsrm5mawdi1f"
   },
   "outputs": [
    {
     "data": {
      "text/plain": [
       "(689468, 20461, 20464)"
      ]
     },
     "execution_count": 42,
     "metadata": {},
     "output_type": "execute_result"
    }
   ],
   "source": [
    "leave_df = out_df.groupby('user_id').head(1)\n",
    "data_df = out_df.drop(leave_df.index)\n",
    "\n",
    "[test_df, dev_df], data_df = generate_dev_test(data_df)\n",
    "train_df = pd.concat([leave_df, data_df]).sort_index()\n",
    "\n",
    "len(train_df), len(dev_df), len(test_df)"
   ]
  },
  {
   "cell_type": "code",
   "execution_count": 43,
   "metadata": {
    "cellId": "awusq3hijt3lajpkni4ke"
   },
   "outputs": [
    {
     "data": {
      "text/html": [
       "<div>\n",
       "<style scoped>\n",
       "    .dataframe tbody tr th:only-of-type {\n",
       "        vertical-align: middle;\n",
       "    }\n",
       "\n",
       "    .dataframe tbody tr th {\n",
       "        vertical-align: top;\n",
       "    }\n",
       "\n",
       "    .dataframe thead th {\n",
       "        text-align: right;\n",
       "    }\n",
       "</style>\n",
       "<table border=\"1\" class=\"dataframe\">\n",
       "  <thead>\n",
       "    <tr style=\"text-align: right;\">\n",
       "      <th></th>\n",
       "      <th>user_id</th>\n",
       "      <th>item_id</th>\n",
       "      <th>time</th>\n",
       "    </tr>\n",
       "  </thead>\n",
       "  <tbody>\n",
       "    <tr>\n",
       "      <th>0</th>\n",
       "      <td>2</td>\n",
       "      <td>351</td>\n",
       "      <td>2020-01-01</td>\n",
       "    </tr>\n",
       "    <tr>\n",
       "      <th>1</th>\n",
       "      <td>5</td>\n",
       "      <td>383</td>\n",
       "      <td>2020-01-01</td>\n",
       "    </tr>\n",
       "    <tr>\n",
       "      <th>2</th>\n",
       "      <td>13</td>\n",
       "      <td>657</td>\n",
       "      <td>2020-01-01</td>\n",
       "    </tr>\n",
       "    <tr>\n",
       "      <th>3</th>\n",
       "      <td>14</td>\n",
       "      <td>1112</td>\n",
       "      <td>2020-01-01</td>\n",
       "    </tr>\n",
       "    <tr>\n",
       "      <th>4</th>\n",
       "      <td>14</td>\n",
       "      <td>337</td>\n",
       "      <td>2020-01-01</td>\n",
       "    </tr>\n",
       "  </tbody>\n",
       "</table>\n",
       "</div>"
      ],
      "text/plain": [
       "   user_id  item_id       time\n",
       "0        2      351 2020-01-01\n",
       "1        5      383 2020-01-01\n",
       "2       13      657 2020-01-01\n",
       "3       14     1112 2020-01-01\n",
       "4       14      337 2020-01-01"
      ]
     },
     "execution_count": 43,
     "metadata": {},
     "output_type": "execute_result"
    }
   ],
   "source": [
    "train_df.head()"
   ]
  },
  {
   "cell_type": "code",
   "execution_count": 44,
   "metadata": {
    "cellId": "atd6kez9v68cfkpfyuelwn"
   },
   "outputs": [
    {
     "data": {
      "text/html": [
       "<div>\n",
       "<style scoped>\n",
       "    .dataframe tbody tr th:only-of-type {\n",
       "        vertical-align: middle;\n",
       "    }\n",
       "\n",
       "    .dataframe tbody tr th {\n",
       "        vertical-align: top;\n",
       "    }\n",
       "\n",
       "    .dataframe thead th {\n",
       "        text-align: right;\n",
       "    }\n",
       "</style>\n",
       "<table border=\"1\" class=\"dataframe\">\n",
       "  <thead>\n",
       "    <tr style=\"text-align: right;\">\n",
       "      <th></th>\n",
       "      <th>user_id</th>\n",
       "      <th>item_id</th>\n",
       "      <th>time</th>\n",
       "      <th>neg_items</th>\n",
       "    </tr>\n",
       "  </thead>\n",
       "  <tbody>\n",
       "    <tr>\n",
       "      <th>27613</th>\n",
       "      <td>1030</td>\n",
       "      <td>442</td>\n",
       "      <td>2020-01-04</td>\n",
       "      <td>[685, 560, 1217, 836, 764, 1034, 278, 600, 109...</td>\n",
       "    </tr>\n",
       "    <tr>\n",
       "      <th>29124</th>\n",
       "      <td>2538</td>\n",
       "      <td>285</td>\n",
       "      <td>2020-01-04</td>\n",
       "      <td>[369, 918, 202, 384, 371, 556, 955, 24, 131, 3...</td>\n",
       "    </tr>\n",
       "    <tr>\n",
       "      <th>55059</th>\n",
       "      <td>7205</td>\n",
       "      <td>291</td>\n",
       "      <td>2020-01-06</td>\n",
       "      <td>[292, 1023, 702, 728, 556, 33, 1036, 213, 1163...</td>\n",
       "    </tr>\n",
       "    <tr>\n",
       "      <th>56197</th>\n",
       "      <td>8358</td>\n",
       "      <td>397</td>\n",
       "      <td>2020-01-06</td>\n",
       "      <td>[1118, 751, 1112, 161, 148, 585, 456, 1112, 10...</td>\n",
       "    </tr>\n",
       "    <tr>\n",
       "      <th>57646</th>\n",
       "      <td>9712</td>\n",
       "      <td>521</td>\n",
       "      <td>2020-01-06</td>\n",
       "      <td>[1173, 1009, 1284, 127, 578, 805, 1349, 977, 1...</td>\n",
       "    </tr>\n",
       "  </tbody>\n",
       "</table>\n",
       "</div>"
      ],
      "text/plain": [
       "       user_id  item_id       time  \\\n",
       "27613     1030      442 2020-01-04   \n",
       "29124     2538      285 2020-01-04   \n",
       "55059     7205      291 2020-01-06   \n",
       "56197     8358      397 2020-01-06   \n",
       "57646     9712      521 2020-01-06   \n",
       "\n",
       "                                               neg_items  \n",
       "27613  [685, 560, 1217, 836, 764, 1034, 278, 600, 109...  \n",
       "29124  [369, 918, 202, 384, 371, 556, 955, 24, 131, 3...  \n",
       "55059  [292, 1023, 702, 728, 556, 33, 1036, 213, 1163...  \n",
       "56197  [1118, 751, 1112, 161, 148, 585, 456, 1112, 10...  \n",
       "57646  [1173, 1009, 1284, 127, 578, 805, 1349, 977, 1...  "
      ]
     },
     "execution_count": 44,
     "metadata": {},
     "output_type": "execute_result"
    }
   ],
   "source": [
    "test_df.head()"
   ]
  },
  {
   "cell_type": "code",
   "execution_count": 45,
   "metadata": {
    "cellId": "ntgh476jdp9rzqcvk4hl"
   },
   "outputs": [],
   "source": [
    "# after splitting, convert time to timestamp\n",
    "train_df['time'] = train_df['time'].apply(lambda x: x.timestamp())\n",
    "dev_df['time'] = dev_df['time'].apply(lambda x: x.timestamp())\n",
    "test_df['time'] = test_df['time'].apply(lambda x: x.timestamp())"
   ]
  },
  {
   "cell_type": "code",
   "execution_count": 46,
   "metadata": {
    "cellId": "pbv30sqes5dvnz0jgvurm"
   },
   "outputs": [],
   "source": [
    "# save results\n",
    "train_df.to_csv(os.path.join(RAW_PATH, 'train.csv'), sep='\\t', index=False)\n",
    "dev_df.to_csv(os.path.join(RAW_PATH, 'dev.csv'), sep='\\t', index=False)\n",
    "test_df.to_csv(os.path.join(RAW_PATH, 'test.csv'), sep='\\t', index=False)"
   ]
  },
  {
   "cell_type": "markdown",
   "metadata": {
    "cellId": "l6ut1gnx99o08c3vln9br9b"
   },
   "source": [
    "### Граф знаний"
   ]
  },
  {
   "cell_type": "code",
   "execution_count": 47,
   "metadata": {
    "cellId": "o5vczicjnq16tbafnjpxu"
   },
   "outputs": [],
   "source": [
    "cids = sorted(item_df['i_category'].unique())\n",
    "cat2id = dict(zip(cids, range(1, len(cids) + 1)))"
   ]
  },
  {
   "cell_type": "code",
   "execution_count": 48,
   "metadata": {
    "cellId": "3ert4gnhm4aw8fna34nzgk"
   },
   "outputs": [],
   "source": [
    "item_df['i_category'] = item_df['i_category'].apply(lambda x: cat2id[x])\n",
    "item_df['item_id'] = item_df['item_id'].apply(lambda x: item2id[x])"
   ]
  },
  {
   "cell_type": "code",
   "execution_count": 49,
   "metadata": {
    "cellId": "ctlx53euwynohyppftfael"
   },
   "outputs": [
    {
     "data": {
      "text/html": [
       "<div>\n",
       "<style scoped>\n",
       "    .dataframe tbody tr th:only-of-type {\n",
       "        vertical-align: middle;\n",
       "    }\n",
       "\n",
       "    .dataframe tbody tr th {\n",
       "        vertical-align: top;\n",
       "    }\n",
       "\n",
       "    .dataframe thead th {\n",
       "        text-align: right;\n",
       "    }\n",
       "</style>\n",
       "<table border=\"1\" class=\"dataframe\">\n",
       "  <thead>\n",
       "    <tr style=\"text-align: right;\">\n",
       "      <th></th>\n",
       "      <th>item_id</th>\n",
       "      <th>i_category</th>\n",
       "    </tr>\n",
       "  </thead>\n",
       "  <tbody>\n",
       "    <tr>\n",
       "      <th>0</th>\n",
       "      <td>183</td>\n",
       "      <td>21</td>\n",
       "    </tr>\n",
       "    <tr>\n",
       "      <th>1</th>\n",
       "      <td>201</td>\n",
       "      <td>29</td>\n",
       "    </tr>\n",
       "    <tr>\n",
       "      <th>2</th>\n",
       "      <td>400</td>\n",
       "      <td>29</td>\n",
       "    </tr>\n",
       "    <tr>\n",
       "      <th>3</th>\n",
       "      <td>237</td>\n",
       "      <td>27</td>\n",
       "    </tr>\n",
       "    <tr>\n",
       "      <th>4</th>\n",
       "      <td>146</td>\n",
       "      <td>27</td>\n",
       "    </tr>\n",
       "  </tbody>\n",
       "</table>\n",
       "</div>"
      ],
      "text/plain": [
       "   item_id  i_category\n",
       "0      183          21\n",
       "1      201          29\n",
       "2      400          29\n",
       "3      237          27\n",
       "4      146          27"
      ]
     },
     "execution_count": 49,
     "metadata": {},
     "output_type": "execute_result"
    }
   ],
   "source": [
    "item_df.head()"
   ]
  },
  {
   "cell_type": "code",
   "execution_count": 50,
   "metadata": {
    "cellId": "ego840jjqme4aerjikzr46"
   },
   "outputs": [],
   "source": [
    "# complements\n",
    "bought_item_set = defaultdict(list)\n",
    "for user_id, seq_df in train_df.groupby('user_id'):\n",
    "    bought_item_set[user_id] = [x for x in set(seq_df['item_id'].values.tolist())]\n",
    "    \n",
    "bought_item_set = dict(bought_item_set)\n",
    "occurences_dict = defaultdict(list)\n",
    "items = set(sorted(item_df['item_id'].unique()))\n",
    "for ls in bought_item_set.values():\n",
    "    for item in ls:\n",
    "        occurences_dict[item] += [x for x in ls if x!=item]\n",
    "            \n",
    "occurences_dict = dict(occurences_dict)\n",
    "most_related_items = defaultdict(list)\n",
    "for k, v in occurences_dict.items():\n",
    "    most_common_items = Counter(v).most_common(5)\n",
    "    most_related_items[k] += [x[0] for x in most_common_items]\n",
    "    \n",
    "most_related_items = dict(most_related_items)\n",
    "\n",
    "# substitutes\n",
    "category_items = {}\n",
    "for category in item_df.i_category.unique():\n",
    "    category_items[category] = [x for x in item_df[item_df.i_category==category]['item_id'].value_counts().head(10).index]\n",
    "    \n",
    "item_substitutes = {}\n",
    "for item in item_df.item_id.unique():\n",
    "    category = item_df[item_df.item_id==item].i_category.values[0]\n",
    "    substitutes = category_items.get(category, [])\n",
    "    item_substitutes[item] = [x for x in substitutes if x!= item]"
   ]
  },
  {
   "cell_type": "code",
   "execution_count": 51,
   "metadata": {
    "cellId": "1vlyjhfruozsyitfeh8ven"
   },
   "outputs": [],
   "source": [
    "item_df['r_complement'] = item_df.item_id.apply(lambda x: most_related_items.get(x, []))\n",
    "item_df['r_substitute'] = item_df.item_id.apply(lambda x: item_substitutes.get(x, []))"
   ]
  },
  {
   "cell_type": "code",
   "execution_count": 52,
   "metadata": {
    "cellId": "m0nrd9kg4plrlld2i7vbr"
   },
   "outputs": [
    {
     "data": {
      "text/html": [
       "<div>\n",
       "<style scoped>\n",
       "    .dataframe tbody tr th:only-of-type {\n",
       "        vertical-align: middle;\n",
       "    }\n",
       "\n",
       "    .dataframe tbody tr th {\n",
       "        vertical-align: top;\n",
       "    }\n",
       "\n",
       "    .dataframe thead th {\n",
       "        text-align: right;\n",
       "    }\n",
       "</style>\n",
       "<table border=\"1\" class=\"dataframe\">\n",
       "  <thead>\n",
       "    <tr style=\"text-align: right;\">\n",
       "      <th></th>\n",
       "      <th>item_id</th>\n",
       "      <th>i_category</th>\n",
       "      <th>r_complement</th>\n",
       "      <th>r_substitute</th>\n",
       "    </tr>\n",
       "  </thead>\n",
       "  <tbody>\n",
       "    <tr>\n",
       "      <th>0</th>\n",
       "      <td>183</td>\n",
       "      <td>21</td>\n",
       "      <td>[383, 146, 70, 293, 418]</td>\n",
       "      <td>[168, 172, 134, 678, 164, 675, 157, 1172, 657,...</td>\n",
       "    </tr>\n",
       "    <tr>\n",
       "      <th>1</th>\n",
       "      <td>201</td>\n",
       "      <td>29</td>\n",
       "      <td>[383, 70, 293, 146, 397]</td>\n",
       "      <td>[1279, 1278, 1168, 1130, 677, 422, 1063, 1320,...</td>\n",
       "    </tr>\n",
       "    <tr>\n",
       "      <th>2</th>\n",
       "      <td>400</td>\n",
       "      <td>29</td>\n",
       "      <td>[383, 437, 70, 293, 146]</td>\n",
       "      <td>[1279, 1278, 1168, 1130, 677, 422, 1063, 1320,...</td>\n",
       "    </tr>\n",
       "    <tr>\n",
       "      <th>3</th>\n",
       "      <td>237</td>\n",
       "      <td>27</td>\n",
       "      <td>[405, 383, 315, 154, 508]</td>\n",
       "      <td>[1066, 693, 154, 1179, 668, 363, 671, 128, 163...</td>\n",
       "    </tr>\n",
       "    <tr>\n",
       "      <th>4</th>\n",
       "      <td>146</td>\n",
       "      <td>27</td>\n",
       "      <td>[383, 418, 70, 293, 397]</td>\n",
       "      <td>[1066, 693, 154, 1179, 668, 363, 671, 128, 163...</td>\n",
       "    </tr>\n",
       "  </tbody>\n",
       "</table>\n",
       "</div>"
      ],
      "text/plain": [
       "   item_id  i_category               r_complement  \\\n",
       "0      183          21   [383, 146, 70, 293, 418]   \n",
       "1      201          29   [383, 70, 293, 146, 397]   \n",
       "2      400          29   [383, 437, 70, 293, 146]   \n",
       "3      237          27  [405, 383, 315, 154, 508]   \n",
       "4      146          27   [383, 418, 70, 293, 397]   \n",
       "\n",
       "                                        r_substitute  \n",
       "0  [168, 172, 134, 678, 164, 675, 157, 1172, 657,...  \n",
       "1  [1279, 1278, 1168, 1130, 677, 422, 1063, 1320,...  \n",
       "2  [1279, 1278, 1168, 1130, 677, 422, 1063, 1320,...  \n",
       "3  [1066, 693, 154, 1179, 668, 363, 671, 128, 163...  \n",
       "4  [1066, 693, 154, 1179, 668, 363, 671, 128, 163...  "
      ]
     },
     "execution_count": 52,
     "metadata": {},
     "output_type": "execute_result"
    }
   ],
   "source": [
    "item_df.head()"
   ]
  },
  {
   "cell_type": "code",
   "execution_count": 53,
   "metadata": {
    "cellId": "9zqpuyxd5miohnoikaj3l"
   },
   "outputs": [
    {
     "data": {
      "text/plain": [
       "2422"
      ]
     },
     "execution_count": 53,
     "metadata": {},
     "output_type": "execute_result"
    }
   ],
   "source": [
    "len(item_df)"
   ]
  },
  {
   "cell_type": "code",
   "execution_count": 54,
   "metadata": {
    "cellId": "mu1w9sv1cm47qnng000x1"
   },
   "outputs": [],
   "source": [
    "# save results\n",
    "item_df.to_csv(os.path.join(RAW_PATH, 'item_meta.csv'), sep='\\t', index=False)"
   ]
  }
 ],
 "metadata": {
  "kernelspec": {
   "display_name": "Yandex DataSphere Kernel",
   "language": "python",
   "name": "python3"
  },
  "language_info": {
   "codemirror_mode": {
    "name": "ipython",
    "version": 3
   },
   "file_extension": ".py",
   "mimetype": "text/x-python",
   "name": "python",
   "nbconvert_exporter": "python",
   "pygments_lexer": "ipython3",
   "version": "3.7.7"
  },
  "notebookId": "01568d56-b410-44f8-a790-2151defb6ca0",
  "notebookPath": "ReChorus/data/ttrs.ipynb"
 },
 "nbformat": 4,
 "nbformat_minor": 4
}

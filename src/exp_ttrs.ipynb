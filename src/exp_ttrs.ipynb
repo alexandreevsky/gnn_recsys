{
 "cells": [
  {
   "cell_type": "markdown",
   "id": "1f164918",
   "metadata": {
    "cellId": "9hpa8obooohpwpdlje9nad"
   },
   "source": [
    "# Эксперименты на датасете TTRS"
   ]
  },
  {
   "cell_type": "markdown",
   "id": "8d76272b",
   "metadata": {
    "cellId": "cidmbex21u9id0szr1ihfl"
   },
   "source": [
    "Все эксперименты были запущены на NVIDIA Tesla V100 GPU"
   ]
  },
  {
   "cell_type": "code",
   "execution_count": 1,
   "id": "e1477f4b",
   "metadata": {
    "cellId": "1teuk4fdbn8igxpevhy7b"
   },
   "outputs": [],
   "source": [
    "from typing import Dict\n",
    "import pandas as pd\n",
    "import warnings\n",
    "warnings.filterwarnings(\"ignore\")"
   ]
  },
  {
   "cell_type": "code",
   "execution_count": 2,
   "id": "ab39f307",
   "metadata": {
    "cellId": "kf5n731geofii3a5oqoh7p"
   },
   "outputs": [],
   "source": [
    "import os\n",
    "import sys\n",
    "import pickle\n",
    "import logging\n",
    "import argparse\n",
    "import numpy as np\n",
    "import torch\n",
    "\n",
    "from helpers import *\n",
    "from models.general import *\n",
    "from models.sequential import *\n",
    "from models.developing import *\n",
    "from utils import utils\n",
    "\n",
    "def parse_global_args(parser):\n",
    "    parser.add_argument('--gpu', type=str, default='0',\n",
    "                        help='Set CUDA_VISIBLE_DEVICES')\n",
    "    parser.add_argument('--verbose', type=int, default=logging.INFO,\n",
    "                        help='Logging Level, 0, 10, ..., 50')\n",
    "    parser.add_argument('--log_file', type=str, default='',\n",
    "                        help='Logging file path')\n",
    "    parser.add_argument('--random_seed', type=int, default=0,\n",
    "                        help='Random seed of numpy and pytorch.')\n",
    "    parser.add_argument('--load', type=int, default=0,\n",
    "                        help='Whether load model and continue to train')\n",
    "    parser.add_argument('--train', type=int, default=1,\n",
    "                        help='To train the model or not.')\n",
    "    parser.add_argument('--regenerate', type=int, default=0,\n",
    "                        help='Whether to regenerate intermediate files.')\n",
    "    return parser"
   ]
  },
  {
   "cell_type": "code",
   "execution_count": 3,
   "id": "3806551c",
   "metadata": {
    "cellId": "nkf5566tlz9jh1e4pyde7"
   },
   "outputs": [],
   "source": [
    "def parse_args():\n",
    "\n",
    "    init_parser = argparse.ArgumentParser(description='Model')\n",
    "    init_parser.add_argument('--model_name', \n",
    "                             type=str, \n",
    "                             default=MODEL_NAME,   \n",
    "                             help='Choose a model to run.')\n",
    "    init_parser.add_argument('--dataset', \n",
    "                             type=str, \n",
    "                             default=DATASET,  \n",
    "                             help='Choose a dataset to run.')\n",
    "    init_args, init_extras = init_parser.parse_known_args()\n",
    "\n",
    "    model_name = eval('{0}.{0}'.format(MODEL_NAME))\n",
    "    reader_name = eval('{0}.{0}'.format(model_name.reader))\n",
    "    runner_name = eval('{0}.{0}'.format(model_name.runner))\n",
    "\n",
    "    # # Args\n",
    "    parser = argparse.ArgumentParser(description='')\n",
    "    parser = parse_global_args(parser)\n",
    "    parser = reader_name.parse_data_args(parser)\n",
    "    parser = runner_name.parse_runner_args(parser)\n",
    "    parser = model_name.parse_model_args(parser)\n",
    "    args, extras = parser.parse_known_args()\n",
    "\n",
    "    # Logging configuration\n",
    "    log_args = [init_args.model_name, init_args.dataset, str(RANDOM_SEED), str(POOLING)]\n",
    "    for arg in ['lr', 'l2'] + model_name.extra_log_args:\n",
    "        log_args.append(arg + '=' + str(eval('args.' + arg)))\n",
    "    log_file_name = '__'.join(log_args).replace(' ', '__') \n",
    "    if args.log_file == '':\n",
    "        args.log_file = '../log/{}/{}.txt'.format(init_args.model_name, log_file_name)\n",
    "    if args.model_path == '':\n",
    "        args.model_path = '../model/{}/{}.pt'.format(init_args.model_name, log_file_name)\n",
    "\n",
    "    utils.check_dir(args.log_file)\n",
    "    logging.basicConfig(filename=args.log_file, level=args.verbose)\n",
    "    logging.getLogger().addHandler(logging.StreamHandler(sys.stdout))\n",
    "    logging.info(init_args)\n",
    "    \n",
    "    return args\n",
    "\n",
    "\n",
    "def parse_args_kda():\n",
    "\n",
    "    init_parser = argparse.ArgumentParser(description='Model')\n",
    "    init_parser.add_argument('--model_name', \n",
    "                             type=str, \n",
    "                             default=MODEL_NAME,   \n",
    "                             help='Choose a model to run.')\n",
    "    init_parser.add_argument('--dataset', \n",
    "                             type=str, \n",
    "                             default=DATASET,  \n",
    "                             help='Choose a dataset to run.')\n",
    "    init_parser.add_argument('--rnn_model', \n",
    "                             type=str, \n",
    "                             default=RNN, # 'lstm'\n",
    "                             help='Choose a rnn to run.')\n",
    "    init_args, init_extras = init_parser.parse_known_args()\n",
    "\n",
    "    model_name = eval('{0}.{0}'.format(MODEL_NAME))\n",
    "    reader_name = eval('{0}.{0}'.format(model_name.reader))\n",
    "    runner_name = eval('{0}.{0}'.format(model_name.runner))\n",
    "\n",
    "    # # Args\n",
    "    parser = argparse.ArgumentParser(description='')\n",
    "    parser = parse_global_args(parser)\n",
    "    parser = reader_name.parse_data_args(parser)\n",
    "    parser = runner_name.parse_runner_args(parser)\n",
    "    parser = model_name.parse_model_args(parser)\n",
    "    args, extras = parser.parse_known_args()\n",
    "\n",
    "    # Logging configuration\n",
    "    log_args = [init_args.model_name, init_args.dataset, init_args.rnn_model, str(RANDOM_SEED), str(POOLING)]\n",
    "    \n",
    "    for arg in ['lr', 'l2'] + model_name.extra_log_args:\n",
    "        log_args.append(arg + '=' + str(eval('args.' + arg)))\n",
    "    log_file_name = '__'.join(log_args).replace(' ', '__') \n",
    "    if args.log_file == '':\n",
    "        args.log_file = '../log/{}/{}.txt'.format(init_args.model_name, log_file_name)\n",
    "    if args.model_path == '':\n",
    "        args.model_path = '../model/{}/{}.pt'.format(init_args.model_name, log_file_name)\n",
    "\n",
    "    utils.check_dir(args.log_file)\n",
    "    logging.basicConfig(filename=args.log_file, level=args.verbose)\n",
    "    logging.getLogger().addHandler(logging.StreamHandler(sys.stdout))\n",
    "    logging.info(init_args)\n",
    "    \n",
    "    return args"
   ]
  },
  {
   "cell_type": "code",
   "execution_count": 4,
   "id": "9b09752a",
   "metadata": {
    "cellId": "0ba3pzzsxjc25jn0726klcj"
   },
   "outputs": [],
   "source": [
    "def run_model():\n",
    "    logging.info('-' * 45 + ' BEGIN: ' + utils.get_time() + ' ' + '-' * 45)\n",
    "    exclude = ['check_epoch', 'log_file', 'model_path', 'path', 'pin_memory', 'load',\n",
    "               'regenerate', 'sep', 'train', 'verbose', 'metric', 'test_epoch', 'buffer']\n",
    "    logging.info(utils.format_arg_str(args, exclude_lst=exclude))\n",
    "\n",
    "    # Random seed\n",
    "    np.random.seed(args.random_seed)\n",
    "    torch.manual_seed(args.random_seed)\n",
    "    torch.cuda.manual_seed(args.random_seed)\n",
    "    torch.backends.cudnn.deterministic = True\n",
    "\n",
    "    # GPU\n",
    "    os.environ[\"CUDA_VISIBLE_DEVICES\"] = args.gpu\n",
    "    logging.info('GPU available: {}'.format(torch.cuda.is_available()))\n",
    "\n",
    "    # # Read data\n",
    "    corpus_path = os.path.join(args.path, args.dataset, model_name.reader + '.pkl')\n",
    "    if not args.regenerate and os.path.exists(corpus_path):\n",
    "        logging.info('Load corpus from {}'.format(corpus_path))\n",
    "        corpus = pickle.load(open(corpus_path, 'rb'))\n",
    "    else:\n",
    "        corpus = reader_name(args)\n",
    "        logging.info('Save corpus to {}'.format(corpus_path))\n",
    "        pickle.dump(corpus, open(corpus_path, 'wb'))\n",
    "\n",
    "    # # Define model\n",
    "    model = model_name(args, corpus)\n",
    "    logging.info(model)\n",
    "    model.apply(model.init_weights)\n",
    "    model.actions_before_train()\n",
    "    model.to(model.device)\n",
    "\n",
    "    # Run model\n",
    "    data_dict = dict()\n",
    "    for phase in ['train', 'dev', 'test']:\n",
    "        data_dict[phase] = model_name.Dataset(model, corpus, phase)\n",
    "    runner = runner_name(args)\n",
    "    if args.load > 0:\n",
    "        model.load_model()\n",
    "    if args.train > 0:\n",
    "        runner.train(data_dict)\n",
    "    logging.info(os.linesep + 'Test After Training: ' + runner.print_res(data_dict['test']))\n",
    "\n",
    "    model.actions_after_train()\n",
    "    logging.info(os.linesep + '-' * 45 + ' END: ' + utils.get_time() + ' ' + '-' * 45)"
   ]
  },
  {
   "cell_type": "markdown",
   "id": "8095b9e3",
   "metadata": {
    "cellId": "iovp1bnhpueapbzv3zixc"
   },
   "source": [
    "### KDA by default"
   ]
  },
  {
   "cell_type": "code",
   "execution_count": null,
   "id": "420c977e",
   "metadata": {
    "cellId": "hyfyzpohtilikl4410y02"
   },
   "outputs": [],
   "source": [
    "MODEL_NAME  = 'KDA' # 'KDA'\n",
    "EMB_SIZE    = 40  \n",
    "LR          = 1e-3\n",
    "L2          = 1e-6\n",
    "DATASET     = 'ttrs'   \n",
    "BATCH_SIZE  = 64  \n",
    "EPOCH       = 10   0\n",
    "TOP_K       = '5,10,15'  \n",
    "VERBOSE     = 20   \n",
    "NUM_WORKERS = 4    \n",
    "RANDOM_SEED = 3500   \n",
    "TIME_SCALAR = (60 * 60 * 24) * 14 # 14 days per interval\n",
    "CAT_COL     = 'i_category'\n",
    "POOLING     = 'average'"
   ]
  },
  {
   "cell_type": "code",
   "execution_count": null,
   "id": "2e154547",
   "metadata": {
    "cellId": "cypvhcsgjykmi21v2ofvmp"
   },
   "outputs": [],
   "source": [
    "args = parse_args()\n",
    "args.batch_size      = BATCH_SIZE\n",
    "args.dataset         = DATASET        \n",
    "args.emb_size        = EMB_SIZE\n",
    "args.epoch           = EPOCH\n",
    "args.topk            = TOP_K\n",
    "args.verbose         = VERBOSE\n",
    "args.eval_batch_size = BATCH_SIZE  \n",
    "args.num_workers     = NUM_WORKERS\n",
    "args.random_seed     = RANDOM_SEED\n",
    "args.time_scalar     = TIME_SCALAR\n",
    "args.category_col    = CAT_COL   \n",
    "args.test_all        = 1   \n",
    "args.pooling         = POOLING\n",
    "\n",
    "model_name = eval('{0}.{0}'.format(MODEL_NAME))\n",
    "reader_name = eval('{0}.{0}'.format(model_name.reader))\n",
    "runner_name = eval('{0}.{0}'.format(model_name.runner))"
   ]
  },
  {
   "cell_type": "code",
   "execution_count": 8,
   "id": "61e69853",
   "metadata": {
    "cellId": "oiz5sdfe5ki1jop77fsb71"
   },
   "outputs": [
    {
     "name": "stderr",
     "output_type": "stream",
     "text": [
      "\r"
     ]
    },
    {
     "name": "stdout",
     "output_type": "stream",
     "text": [
      "--------------------------------------------- BEGIN: 2022-05-29 19:02:01 ---------------------------------------------\n",
      "\n",
      "==============================\n",
      " Arguments       | Values     \n",
      "==============================\n",
      " attention_size  | 10        \n",
      " batch_size      | 64        \n",
      " category_col    | i_category\n",
      " dataset         | ttrs      \n",
      " dropout         | 0         \n",
      " early_stop      | 10        \n",
      " emb_size        | 40        \n",
      " epoch           | 10        \n",
      " eval_batch_size | 64        \n",
      " freq_rand       | 0         \n",
      " gamma           | -1        \n",
      " gpu             | 0         \n",
      " history_max     | 20        \n",
      " include_attr    | 0         \n",
      " include_val     | 1         \n",
      " l2              | 0         \n",
      " lr              | 0.001     \n",
      " n_dft           | 64        \n",
      " neg_head_p      | 0.5       \n",
      " num_heads       | 1         \n",
      " num_layers      | 1         \n",
      " num_neg         | 1         \n",
      " num_workers     | 4         \n",
      " optimizer       | Adam      \n",
      " pooling         | average   \n",
      " random_seed     | 3500      \n",
      " t_scalar        | 60        \n",
      " test_all        | 1         \n",
      " time_scalar     | 1209600   \n",
      " topk            | 5,10,15   \n",
      "==============================\n",
      "GPU available: True\n",
      "Reading data from \"../data/\", dataset = \"ttrs\" \n",
      "Counting dataset statistics...\n",
      "\"# user\": 20464, \"# item\": 1354, \"# entry\": 730393\n",
      "Appending history info...\n",
      "Constructing relation triplets...\n",
      "Item-item relations:['r_complement', 'r_substitute']\n",
      "\"# relation\": 3, \"# triplet\": 36012\n",
      "Save corpus to ../data/ttrs/DFTReader.pkl\n",
      "#params: 882633\n",
      "KDA(\n",
      "  (user_embeddings): Embedding(20465, 40)\n",
      "  (entity_embeddings): Embedding(1355, 40)\n",
      "  (relation_embeddings): Embedding(3, 40)\n",
      "  (relational_dynamic_aggregation): RelationalDynamicAggregation(\n",
      "    (relation_embeddings): Embedding(3, 40)\n",
      "    (freq_real): Embedding(3, 33)\n",
      "    (freq_imag): Embedding(3, 33)\n",
      "  )\n",
      "  (attn_head): MultiHeadAttention(\n",
      "    (q_linear): Linear(in_features=40, out_features=40, bias=False)\n",
      "    (k_linear): Linear(in_features=40, out_features=40, bias=False)\n",
      "    (v_linear): Linear(in_features=40, out_features=40, bias=False)\n",
      "  )\n",
      "  (W1): Linear(in_features=40, out_features=40, bias=True)\n",
      "  (W2): Linear(in_features=40, out_features=40, bias=True)\n",
      "  (dropout_layer): Dropout(p=0, inplace=False)\n",
      "  (layer_norm): LayerNorm((40,), eps=1e-05, elementwise_affine=True)\n",
      "  (item_bias): Embedding(1355, 1)\n",
      ")\n",
      "Optimizer: Adam\n",
      "Epoch 1     loss=0.1315 [132.2 s]    dev=(HR@5:0.7407,NDCG@5:0.6906) [13.4 s] *\n",
      "Epoch 2     loss=0.0768 [130.8 s]    dev=(HR@5:0.7750,NDCG@5:0.7368) [13.5 s] *\n",
      "Epoch 3     loss=0.0608 [131.3 s]    dev=(HR@5:0.7803,NDCG@5:0.7416) [13.8 s] *\n",
      "Epoch 4     loss=0.0522 [132.7 s]    dev=(HR@5:0.7884,NDCG@5:0.7553) [12.9 s] *\n",
      "Epoch 5     loss=0.0471 [131.9 s]    dev=(HR@5:0.7880,NDCG@5:0.7518) [13.5 s]\n",
      "Epoch 6     loss=0.0415 [130.6 s]    dev=(HR@5:0.7897,NDCG@5:0.7554) [13.4 s] *\n",
      "Epoch 7     loss=0.0371 [131.8 s]    dev=(HR@5:0.7907,NDCG@5:0.7612) [13.1 s] *\n",
      "Epoch 8     loss=0.0327 [131.6 s]    dev=(HR@5:0.7924,NDCG@5:0.7604) [13.3 s]\n",
      "Epoch 9     loss=0.0296 [129.5 s]    dev=(HR@5:0.7926,NDCG@5:0.7583) [13.9 s]\n",
      "Epoch 10    loss=0.0264 [131.0 s]    dev=(HR@5:0.7895,NDCG@5:0.7578) [13.2 s]\n",
      "\n",
      "Best Iter(dev)=    7\t dev=(HR@5:0.7907,NDCG@5:0.7612) [1447.7 s] \n",
      "Load model from ../model/KDA/KDA__ttrs__3500__average__lr=0.001__l2=0__num_layers=1__num_heads=1__gamma=-1__freq_rand=0__include_val=1.pt\n",
      "\n",
      "Test After Training: (HR@5:0.8039,NDCG@5:0.7778,HR@10:0.8331,NDCG@10:0.7872,HR@15:0.8512,NDCG@15:0.7920)\n",
      "\n",
      "--------------------------------------------- END: 2022-05-29 19:28:53 ---------------------------------------------\n"
     ]
    }
   ],
   "source": [
    "run_model()"
   ]
  },
  {
   "cell_type": "markdown",
   "id": "b5770509",
   "metadata": {
    "cellId": "sk13zz6jl1uqu89leibj8"
   },
   "source": [
    "### KDA+LSTM"
   ]
  },
  {
   "cell_type": "code",
   "execution_count": 6,
   "id": "f79cc09f",
   "metadata": {
    "cellId": "qmyp14b576fxb2xxytyb7j"
   },
   "outputs": [],
   "source": [
    "MODEL_NAME  = 'KDA_RNN' \n",
    "EMB_SIZE    = 40  \n",
    "LR          = 1e-3\n",
    "L2          = 1e-6\n",
    "DATASET     = 'ttrs' \n",
    "BATCH_SIZE  = 64  \n",
    "EPOCH       = 10   \n",
    "TOP_K       = '5,10,15'  \n",
    "VERBOSE     = 20   \n",
    "NUM_WORKERS = 4    \n",
    "RANDOM_SEED = 3500   \n",
    "TIME_SCALAR = (60 * 60 * 24) * 14  \n",
    "CAT_COL     = 'i_category'\n",
    "POOLING     = 'average'\n",
    "RNN         = 'lstm'"
   ]
  },
  {
   "cell_type": "code",
   "execution_count": 7,
   "id": "45031308",
   "metadata": {
    "cellId": "nod34ahhfzl5p3ha2wf1n3"
   },
   "outputs": [
    {
     "name": "stdout",
     "output_type": "stream",
     "text": [
      "Namespace(dataset='ttrs', model_name='KDA_RNN')\n"
     ]
    }
   ],
   "source": [
    "args = parse_args()\n",
    "args.batch_size      = BATCH_SIZE\n",
    "args.dataset         = DATASET        \n",
    "args.emb_size        = EMB_SIZE\n",
    "args.epoch           = EPOCH\n",
    "args.topk            = TOP_K\n",
    "args.verbose         = VERBOSE\n",
    "args.eval_batch_size = BATCH_SIZE  \n",
    "args.num_workers     = NUM_WORKERS\n",
    "args.random_seed     = RANDOM_SEED\n",
    "args.model_name      = MODEL_NAME     \n",
    "args.time_scalar     = TIME_SCALAR\n",
    "args.category_col    = CAT_COL   \n",
    "args.test_all        = 1  \n",
    "args.pooling         = POOLING\n",
    "args.time_max        = 20\n",
    "args.rnn_model       = 'lstm'\n",
    "\n",
    "model_name = eval('{0}.{0}'.format(MODEL_NAME))\n",
    "reader_name = eval('{0}.{0}'.format(model_name.reader))\n",
    "runner_name = eval('{0}.{0}'.format(model_name.runner))"
   ]
  },
  {
   "cell_type": "code",
   "execution_count": 8,
   "id": "0fe9ce45",
   "metadata": {
    "cellId": "3rpyzj9u8d29np7irt09wg"
   },
   "outputs": [
    {
     "name": "stderr",
     "output_type": "stream",
     "text": [
      "\r"
     ]
    },
    {
     "name": "stdout",
     "output_type": "stream",
     "text": [
      "--------------------------------------------- BEGIN: 2022-05-29 22:21:31 ---------------------------------------------\n",
      "\n",
      "==============================\n",
      " Arguments       | Values     \n",
      "==============================\n",
      " attention_size  | 10        \n",
      " batch_size      | 64        \n",
      " category_col    | i_category\n",
      " dataset         | ttrs      \n",
      " dropout         | 0         \n",
      " early_stop      | 10        \n",
      " emb_size        | 40        \n",
      " epoch           | 10        \n",
      " eval_batch_size | 64        \n",
      " freq_rand       | 0         \n",
      " gamma           | -1        \n",
      " gpu             | 0         \n",
      " history_max     | 20        \n",
      " include_attr    | 0         \n",
      " include_val     | 1         \n",
      " l2              | 0         \n",
      " lr              | 0.001     \n",
      " model_name      | KDA_RNN   \n",
      " n_dft           | 64        \n",
      " neg_head_p      | 0.5       \n",
      " num_heads       | 1         \n",
      " num_layers      | 1         \n",
      " num_neg         | 1         \n",
      " num_workers     | 4         \n",
      " optimizer       | Adam      \n",
      " pooling         | average   \n",
      " random_seed     | 3500      \n",
      " rnn_model       | lstm      \n",
      " t_scalar        | 60        \n",
      " test_all        | 1         \n",
      " time_max        | 20        \n",
      " time_scalar     | 1209600   \n",
      " topk            | 5,10,15   \n",
      "==============================\n",
      "GPU available: True\n",
      "Load corpus from ../data/ttrs/DFTReader.pkl\n",
      "#params: 975473\n",
      "KDA_RNN(\n",
      "  (user_embeddings): Embedding(20465, 40, padding_idx=0)\n",
      "  (entity_embeddings): Embedding(1355, 40)\n",
      "  (relation_embeddings): Embedding(3, 40)\n",
      "  (relational_dynamic_aggregation): RelationalDynamicAggregation(\n",
      "    (relation_embeddings): Embedding(3, 40)\n",
      "    (freq_real): Embedding(3, 33)\n",
      "    (freq_imag): Embedding(3, 33)\n",
      "  )\n",
      "  (attn_head): MultiHeadAttention(\n",
      "    (q_linear): Linear(in_features=40, out_features=40, bias=False)\n",
      "    (k_linear): Linear(in_features=40, out_features=40, bias=False)\n",
      "    (v_linear): Linear(in_features=40, out_features=40, bias=False)\n",
      "  )\n",
      "  (W1): Linear(in_features=40, out_features=40, bias=True)\n",
      "  (W2): Linear(in_features=40, out_features=40, bias=True)\n",
      "  (dropout_layer): Dropout(p=0, inplace=False)\n",
      "  (layer_norm): LayerNorm((40,), eps=1e-05, elementwise_affine=True)\n",
      "  (item_bias): Embedding(1355, 1)\n",
      "  (emb_dropout): Dropout(p=0.1, inplace=False)\n",
      "  (rnn): LSTM(40, 80, num_layers=2, bias=False, batch_first=True)\n",
      "  (dense): Linear(in_features=80, out_features=40, bias=True)\n",
      ")\n",
      "Optimizer: Adam\n",
      "Epoch 1     loss=0.1342 [166.1 s]    dev=(HR@5:0.7353,NDCG@5:0.6890) [13.2 s] *\n",
      "Epoch 2     loss=0.0807 [169.5 s]    dev=(HR@5:0.7663,NDCG@5:0.7224) [13.4 s] *\n",
      "Epoch 3     loss=0.0681 [169.4 s]    dev=(HR@5:0.7789,NDCG@5:0.7451) [13.5 s] *\n",
      "Epoch 4     loss=0.0630 [171.6 s]    dev=(HR@5:0.7850,NDCG@5:0.7548) [13.7 s] *\n",
      "Epoch 5     loss=0.0614 [168.6 s]    dev=(HR@5:0.7858,NDCG@5:0.7574) [13.7 s] *\n",
      "Epoch 6     loss=0.0590 [168.5 s]    dev=(HR@5:0.7852,NDCG@5:0.7533) [13.8 s]\n",
      "Epoch 7     loss=0.0570 [169.0 s]    dev=(HR@5:0.7877,NDCG@5:0.7571) [13.2 s]\n",
      "Epoch 8     loss=0.0555 [168.7 s]    dev=(HR@5:0.7840,NDCG@5:0.7477) [13.1 s]\n",
      "Epoch 9     loss=0.0551 [170.3 s]    dev=(HR@5:0.7874,NDCG@5:0.7551) [13.3 s]\n",
      "Epoch 10    loss=0.0534 [169.4 s]    dev=(HR@5:0.7889,NDCG@5:0.7562) [13.4 s]\n",
      "\n",
      "Best Iter(dev)=    5\t dev=(HR@5:0.7858,NDCG@5:0.7574) [1825.5 s] \n",
      "Load model from ../model/KDA_RNN/KDA_RNN__ttrs__3500__average__lr=0.001__l2=0__num_layers=1__num_heads=1__gamma=-1__freq_rand=0__include_val=1.pt\n",
      "\n",
      "Test After Training: (HR@5:0.7988,NDCG@5:0.7725,HR@10:0.8282,NDCG@10:0.7821,HR@15:0.8455,NDCG@15:0.7866)\n",
      "\n",
      "--------------------------------------------- END: 2022-05-29 22:52:31 ---------------------------------------------\n"
     ]
    }
   ],
   "source": [
    "run_model()"
   ]
  },
  {
   "cell_type": "markdown",
   "id": "37c4ebdd",
   "metadata": {
    "cellId": "68h333iv1lx4zohukh4jqw"
   },
   "source": [
    "### KDA+GRU"
   ]
  },
  {
   "cell_type": "code",
   "execution_count": 5,
   "id": "8d81fce6",
   "metadata": {
    "cellId": "lmwekce11ew4adqklmhhi"
   },
   "outputs": [],
   "source": [
    "MODEL_NAME  = 'KDA_RNN' \n",
    "EMB_SIZE    = 40  \n",
    "LR          = 1e-3\n",
    "L2          = 1e-6\n",
    "DATASET     = 'ttrs' \n",
    "BATCH_SIZE  = 64  \n",
    "EPOCH       = 10   \n",
    "TOP_K       = '5,10,15'  \n",
    "VERBOSE     = 20   \n",
    "NUM_WORKERS = 4    \n",
    "RANDOM_SEED = 3500   \n",
    "TIME_SCALAR = (60 * 60 * 24) * 14  \n",
    "CAT_COL     = 'i_category'\n",
    "POOLING     = 'average'\n",
    "RNN         = 'gru'"
   ]
  },
  {
   "cell_type": "code",
   "execution_count": 6,
   "id": "fad7b7b5",
   "metadata": {
    "cellId": "59fcyjtq7rf9tr876kn9n7"
   },
   "outputs": [
    {
     "name": "stdout",
     "output_type": "stream",
     "text": [
      "Namespace(dataset='ttrs', model_name='KDA_RNN')\n"
     ]
    }
   ],
   "source": [
    "args = parse_args()\n",
    "args.batch_size      = BATCH_SIZE\n",
    "args.dataset         = DATASET        \n",
    "args.emb_size        = EMB_SIZE\n",
    "args.epoch           = EPOCH\n",
    "args.topk            = TOP_K\n",
    "args.verbose         = VERBOSE\n",
    "args.eval_batch_size = BATCH_SIZE  \n",
    "args.num_workers     = NUM_WORKERS\n",
    "args.random_seed     = RANDOM_SEED\n",
    "args.model_name      = MODEL_NAME     \n",
    "args.time_scalar     = TIME_SCALAR\n",
    "args.category_col    = CAT_COL   \n",
    "args.test_all        = 1  \n",
    "args.pooling         = POOLING\n",
    "args.time_max        = 20\n",
    "args.rnn_model       = RNN\n",
    "\n",
    "model_name = eval('{0}.{0}'.format(MODEL_NAME))\n",
    "reader_name = eval('{0}.{0}'.format(model_name.reader))\n",
    "runner_name = eval('{0}.{0}'.format(model_name.runner))"
   ]
  },
  {
   "cell_type": "code",
   "execution_count": 7,
   "id": "52c42d4b",
   "metadata": {
    "cellId": "t02ja7xe2rlcyntwgnzmyr"
   },
   "outputs": [
    {
     "name": "stderr",
     "output_type": "stream",
     "text": [
      "\r"
     ]
    },
    {
     "name": "stdout",
     "output_type": "stream",
     "text": [
      "--------------------------------------------- BEGIN: 2022-05-30 02:15:46 ---------------------------------------------\n",
      "\n",
      "==============================\n",
      " Arguments       | Values     \n",
      "==============================\n",
      " attention_size  | 10        \n",
      " batch_size      | 64        \n",
      " category_col    | i_category\n",
      " dataset         | ttrs      \n",
      " dropout         | 0         \n",
      " early_stop      | 10        \n",
      " emb_size        | 40        \n",
      " epoch           | 10        \n",
      " eval_batch_size | 64        \n",
      " freq_rand       | 0         \n",
      " gamma           | -1        \n",
      " gpu             | 0         \n",
      " history_max     | 20        \n",
      " include_attr    | 0         \n",
      " include_val     | 1         \n",
      " l2              | 0         \n",
      " lr              | 0.001     \n",
      " model_name      | KDA_RNN   \n",
      " n_dft           | 64        \n",
      " neg_head_p      | 0.5       \n",
      " num_heads       | 1         \n",
      " num_layers      | 1         \n",
      " num_neg         | 1         \n",
      " num_workers     | 4         \n",
      " optimizer       | Adam      \n",
      " pooling         | average   \n",
      " random_seed     | 3500      \n",
      " rnn_model       | gru       \n",
      " t_scalar        | 60        \n",
      " test_all        | 1         \n",
      " time_max        | 20        \n",
      " time_scalar     | 1209600   \n",
      " topk            | 5,10,15   \n",
      "==============================\n",
      "GPU available: True\n",
      "Load corpus from ../data/ttrs/DFTReader.pkl\n",
      "#params: 953073\n",
      "KDA_RNN(\n",
      "  (user_embeddings): Embedding(20465, 40, padding_idx=0)\n",
      "  (entity_embeddings): Embedding(1355, 40)\n",
      "  (relation_embeddings): Embedding(3, 40)\n",
      "  (relational_dynamic_aggregation): RelationalDynamicAggregation(\n",
      "    (relation_embeddings): Embedding(3, 40)\n",
      "    (freq_real): Embedding(3, 33)\n",
      "    (freq_imag): Embedding(3, 33)\n",
      "  )\n",
      "  (attn_head): MultiHeadAttention(\n",
      "    (q_linear): Linear(in_features=40, out_features=40, bias=False)\n",
      "    (k_linear): Linear(in_features=40, out_features=40, bias=False)\n",
      "    (v_linear): Linear(in_features=40, out_features=40, bias=False)\n",
      "  )\n",
      "  (W1): Linear(in_features=40, out_features=40, bias=True)\n",
      "  (W2): Linear(in_features=40, out_features=40, bias=True)\n",
      "  (dropout_layer): Dropout(p=0, inplace=False)\n",
      "  (layer_norm): LayerNorm((40,), eps=1e-05, elementwise_affine=True)\n",
      "  (item_bias): Embedding(1355, 1)\n",
      "  (emb_dropout): Dropout(p=0.1, inplace=False)\n",
      "  (rnn): GRU(40, 80, num_layers=2, bias=False, batch_first=True)\n",
      "  (dense): Linear(in_features=80, out_features=40, bias=True)\n",
      ")\n",
      "Optimizer: Adam\n",
      "Epoch 1     loss=0.1338 [180.2 s]    dev=(HR@5:0.7370,NDCG@5:0.6872) [13.4 s] *\n",
      "Epoch 2     loss=0.0796 [182.7 s]    dev=(HR@5:0.7717,NDCG@5:0.7289) [13.6 s] *\n",
      "Epoch 3     loss=0.0672 [184.9 s]    dev=(HR@5:0.7815,NDCG@5:0.7435) [14.1 s] *\n",
      "Epoch 4     loss=0.0618 [183.5 s]    dev=(HR@5:0.7808,NDCG@5:0.7456) [13.7 s] *\n",
      "Epoch 5     loss=0.0602 [184.0 s]    dev=(HR@5:0.7847,NDCG@5:0.7529) [13.3 s] *\n",
      "Epoch 6     loss=0.0576 [182.5 s]    dev=(HR@5:0.7835,NDCG@5:0.7449) [14.0 s]\n",
      "Epoch 7     loss=0.0557 [185.6 s]    dev=(HR@5:0.7798,NDCG@5:0.7463) [13.1 s]\n",
      "Epoch 8     loss=0.0545 [184.6 s]    dev=(HR@5:0.7887,NDCG@5:0.7555) [13.9 s] *\n",
      "Epoch 9     loss=0.0544 [181.5 s]    dev=(HR@5:0.7880,NDCG@5:0.7570) [13.6 s] *\n",
      "Epoch 10    loss=0.0527 [184.7 s]    dev=(HR@5:0.7866,NDCG@5:0.7571) [13.4 s] *\n",
      "\n",
      "Best Iter(dev)=   10\t dev=(HR@5:0.7866,NDCG@5:0.7571) [1970.3 s] \n",
      "Load model from ../model/KDA_RNN/KDA_RNN__ttrs__3500__average__lr=0.001__l2=0__num_layers=1__num_heads=1__gamma=-1__freq_rand=0__include_val=1.pt\n",
      "\n",
      "Test After Training: (HR@5:0.8036,NDCG@5:0.7738,HR@10:0.8307,NDCG@10:0.7826,HR@15:0.8487,NDCG@15:0.7873)\n",
      "\n",
      "--------------------------------------------- END: 2022-05-30 02:49:13 ---------------------------------------------\n"
     ]
    }
   ],
   "source": [
    "run_model()"
   ]
  },
  {
   "cell_type": "markdown",
   "id": "d9f4f1ac",
   "metadata": {
    "cellId": "weijzh6qpmlv7fdjbbdpc"
   },
   "source": [
    "### KDA+GRU+MAX"
   ]
  },
  {
   "cell_type": "code",
   "execution_count": 5,
   "id": "f56e06cf",
   "metadata": {
    "cellId": "pkvxlmf50micd93549xdio"
   },
   "outputs": [],
   "source": [
    "MODEL_NAME  = 'KDA_RNN' \n",
    "EMB_SIZE    = 40  \n",
    "LR          = 1e-3\n",
    "L2          = 1e-6\n",
    "DATASET     = 'ttrs' \n",
    "BATCH_SIZE  = 64  \n",
    "EPOCH       = 10   \n",
    "TOP_K       = '5,10,15'  \n",
    "VERBOSE     = 20   \n",
    "NUM_WORKERS = 4    \n",
    "RANDOM_SEED = 3500   \n",
    "TIME_SCALAR = (60 * 60 * 24) * 14  \n",
    "CAT_COL     = 'i_category'\n",
    "POOLING     = 'max'\n",
    "RNN         = 'gru'"
   ]
  },
  {
   "cell_type": "code",
   "execution_count": 6,
   "id": "7ed511c5",
   "metadata": {
    "cellId": "awyzyeni11uqax1gnowcgj"
   },
   "outputs": [
    {
     "name": "stdout",
     "output_type": "stream",
     "text": [
      "Namespace(dataset='ttrs', model_name='KDA_RNN')\n"
     ]
    }
   ],
   "source": [
    "args = parse_args()\n",
    "args.batch_size      = BATCH_SIZE\n",
    "args.dataset         = DATASET        \n",
    "args.emb_size        = EMB_SIZE\n",
    "args.epoch           = EPOCH\n",
    "args.topk            = TOP_K\n",
    "args.verbose         = VERBOSE\n",
    "args.eval_batch_size = BATCH_SIZE  \n",
    "args.num_workers     = NUM_WORKERS\n",
    "args.random_seed     = RANDOM_SEED\n",
    "args.model_name      = MODEL_NAME     \n",
    "args.time_scalar     = TIME_SCALAR\n",
    "args.category_col    = CAT_COL   \n",
    "args.test_all        = 1  \n",
    "args.pooling         = POOLING\n",
    "args.time_max        = 20\n",
    "args.rnn_model       = RNN\n",
    "\n",
    "model_name = eval('{0}.{0}'.format(MODEL_NAME))\n",
    "reader_name = eval('{0}.{0}'.format(model_name.reader))\n",
    "runner_name = eval('{0}.{0}'.format(model_name.runner))"
   ]
  },
  {
   "cell_type": "code",
   "execution_count": 7,
   "id": "4b94b478",
   "metadata": {
    "cellId": "2e2rlo2dvlx75b3fmmdfdq"
   },
   "outputs": [
    {
     "name": "stderr",
     "output_type": "stream",
     "text": [
      "\r"
     ]
    },
    {
     "name": "stdout",
     "output_type": "stream",
     "text": [
      "--------------------------------------------- BEGIN: 2022-05-30 12:33:40 ---------------------------------------------\n",
      "\n",
      "==============================\n",
      " Arguments       | Values     \n",
      "==============================\n",
      " attention_size  | 10        \n",
      " batch_size      | 64        \n",
      " category_col    | i_category\n",
      " dataset         | ttrs      \n",
      " dropout         | 0         \n",
      " early_stop      | 10        \n",
      " emb_size        | 40        \n",
      " epoch           | 10        \n",
      " eval_batch_size | 64        \n",
      " freq_rand       | 0         \n",
      " gamma           | -1        \n",
      " gpu             | 0         \n",
      " history_max     | 20        \n",
      " include_attr    | 0         \n",
      " include_val     | 1         \n",
      " l2              | 0         \n",
      " lr              | 0.001     \n",
      " model_name      | KDA_RNN   \n",
      " n_dft           | 64        \n",
      " neg_head_p      | 0.5       \n",
      " num_heads       | 1         \n",
      " num_layers      | 1         \n",
      " num_neg         | 1         \n",
      " num_workers     | 4         \n",
      " optimizer       | Adam      \n",
      " pooling         | max       \n",
      " random_seed     | 3500      \n",
      " rnn_model       | gru       \n",
      " t_scalar        | 60        \n",
      " test_all        | 1         \n",
      " time_max        | 20        \n",
      " time_scalar     | 1209600   \n",
      " topk            | 5,10,15   \n",
      "==============================\n",
      "GPU available: True\n",
      "Load corpus from ../data/ttrs/DFTReader.pkl\n",
      "#params: 953073\n",
      "KDA_RNN(\n",
      "  (user_embeddings): Embedding(20465, 40, padding_idx=0)\n",
      "  (entity_embeddings): Embedding(1355, 40)\n",
      "  (relation_embeddings): Embedding(3, 40)\n",
      "  (relational_dynamic_aggregation): RelationalDynamicAggregation(\n",
      "    (relation_embeddings): Embedding(3, 40)\n",
      "    (freq_real): Embedding(3, 33)\n",
      "    (freq_imag): Embedding(3, 33)\n",
      "  )\n",
      "  (attn_head): MultiHeadAttention(\n",
      "    (q_linear): Linear(in_features=40, out_features=40, bias=False)\n",
      "    (k_linear): Linear(in_features=40, out_features=40, bias=False)\n",
      "    (v_linear): Linear(in_features=40, out_features=40, bias=False)\n",
      "  )\n",
      "  (W1): Linear(in_features=40, out_features=40, bias=True)\n",
      "  (W2): Linear(in_features=40, out_features=40, bias=True)\n",
      "  (dropout_layer): Dropout(p=0, inplace=False)\n",
      "  (layer_norm): LayerNorm((40,), eps=1e-05, elementwise_affine=True)\n",
      "  (item_bias): Embedding(1355, 1)\n",
      "  (emb_dropout): Dropout(p=0.1, inplace=False)\n",
      "  (rnn): GRU(40, 80, num_layers=2, bias=False, batch_first=True)\n",
      "  (dense): Linear(in_features=80, out_features=40, bias=True)\n",
      ")\n",
      "Optimizer: Adam\n",
      "Epoch 1     loss=0.1328 [170.9 s]    dev=(HR@5:0.7290,NDCG@5:0.6741) [13.1 s] *\n",
      "Epoch 2     loss=0.0803 [172.1 s]    dev=(HR@5:0.7709,NDCG@5:0.7289) [13.4 s] *\n",
      "Epoch 3     loss=0.0687 [169.7 s]    dev=(HR@5:0.7791,NDCG@5:0.7405) [13.6 s] *\n",
      "Epoch 4     loss=0.0637 [170.1 s]    dev=(HR@5:0.7833,NDCG@5:0.7502) [13.5 s] *\n",
      "Epoch 5     loss=0.0622 [169.7 s]    dev=(HR@5:0.7867,NDCG@5:0.7530) [13.6 s] *\n",
      "Epoch 6     loss=0.0596 [174.2 s]    dev=(HR@5:0.7862,NDCG@5:0.7457) [13.2 s]\n",
      "Epoch 7     loss=0.0578 [172.5 s]    dev=(HR@5:0.7819,NDCG@5:0.7481) [13.3 s]\n",
      "Epoch 8     loss=0.0565 [173.5 s]    dev=(HR@5:0.7857,NDCG@5:0.7508) [13.3 s]\n",
      "Epoch 9     loss=0.0563 [171.6 s]    dev=(HR@5:0.7860,NDCG@5:0.7556) [13.7 s] *\n",
      "Epoch 10    loss=0.0545 [176.5 s]    dev=(HR@5:0.7887,NDCG@5:0.7579) [14.2 s] *\n",
      "\n",
      "Best Iter(dev)=   10\t dev=(HR@5:0.7887,NDCG@5:0.7579) [1856.1 s] \n",
      "Load model from ../model/KDA_RNN/KDA_RNN__ttrs__3500__max__lr=0.001__l2=0__num_layers=1__num_heads=1__gamma=-1__freq_rand=0__include_val=1.pt\n",
      "\n",
      "Test After Training: (HR@5:0.8036,NDCG@5:0.7746,HR@10:0.8308,NDCG@10:0.7835,HR@15:0.8482,NDCG@15:0.7881)\n",
      "\n",
      "--------------------------------------------- END: 2022-05-30 13:05:15 ---------------------------------------------\n"
     ]
    }
   ],
   "source": [
    "run_model()"
   ]
  },
  {
   "cell_type": "code",
   "execution_count": 9,
   "id": "c4677a50",
   "metadata": {
    "cellId": "7qn67d80jmup6rgc5796qs"
   },
   "outputs": [
    {
     "name": "stdout",
     "output_type": "stream",
     "text": [
      "GPU available: True\n",
      "Load corpus from ../data/ttrs/DFTReader.pkl\n",
      "#params: 953073\n",
      "KDA_RNN(\n",
      "  (user_embeddings): Embedding(20465, 40, padding_idx=0)\n",
      "  (entity_embeddings): Embedding(1355, 40)\n",
      "  (relation_embeddings): Embedding(3, 40)\n",
      "  (relational_dynamic_aggregation): RelationalDynamicAggregation(\n",
      "    (relation_embeddings): Embedding(3, 40)\n",
      "    (freq_real): Embedding(3, 33)\n",
      "    (freq_imag): Embedding(3, 33)\n",
      "  )\n",
      "  (attn_head): MultiHeadAttention(\n",
      "    (q_linear): Linear(in_features=40, out_features=40, bias=False)\n",
      "    (k_linear): Linear(in_features=40, out_features=40, bias=False)\n",
      "    (v_linear): Linear(in_features=40, out_features=40, bias=False)\n",
      "  )\n",
      "  (W1): Linear(in_features=40, out_features=40, bias=True)\n",
      "  (W2): Linear(in_features=40, out_features=40, bias=True)\n",
      "  (dropout_layer): Dropout(p=0, inplace=False)\n",
      "  (layer_norm): LayerNorm((40,), eps=1e-05, elementwise_affine=True)\n",
      "  (item_bias): Embedding(1355, 1)\n",
      "  (emb_dropout): Dropout(p=0.1, inplace=False)\n",
      "  (rnn): GRU(40, 80, num_layers=2, bias=False, batch_first=True)\n",
      "  (dense): Linear(in_features=80, out_features=40, bias=True)\n",
      ")\n",
      "\n",
      "Загрузка модели\n",
      "Load model from ../model/KDA_RNN/KDA_RNN__ttrs__3500__max__lr=0.001__l2=0__num_layers=1__num_heads=1__gamma=-1__freq_rand=0__include_val=1.pt\n",
      "\n",
      "Получение предсказаний\n",
      "\n",
      "Сохранение предсказаний\n"
     ]
    },
    {
     "name": "stderr",
     "output_type": "stream",
     "text": [
      "\r"
     ]
    }
   ],
   "source": [
    "# For Blending\n",
    "# Random seed\n",
    "np.random.seed(args.random_seed)\n",
    "torch.manual_seed(args.random_seed)\n",
    "torch.cuda.manual_seed(args.random_seed)\n",
    "torch.backends.cudnn.deterministic = True\n",
    "\n",
    "# GPU\n",
    "os.environ[\"CUDA_VISIBLE_DEVICES\"] = args.gpu\n",
    "logging.info('GPU available: {}'.format(torch.cuda.is_available()))\n",
    "\n",
    "# # Read data\n",
    "corpus_path = os.path.join(args.path, args.dataset, model_name.reader + '.pkl')\n",
    "if not args.regenerate and os.path.exists(corpus_path):\n",
    "    logging.info('Load corpus from {}'.format(corpus_path))\n",
    "    corpus = pickle.load(open(corpus_path, 'rb'))\n",
    "else:\n",
    "    corpus = reader_name(args)\n",
    "    logging.info('Save corpus to {}'.format(corpus_path))\n",
    "    pickle.dump(corpus, open(corpus_path, 'wb'))\n",
    "\n",
    "# # Define model\n",
    "model = model_name(args, corpus)\n",
    "logging.info(model)\n",
    "model.apply(model.init_weights)\n",
    "model.actions_before_train()\n",
    "model.to(model.device)\n",
    "\n",
    "# # Run model\n",
    "data_dict = dict()\n",
    "for phase in ['test']:\n",
    "    data_dict[phase] = model_name.Dataset(model, corpus, phase)\n",
    "runner = runner_name(args)\n",
    "logging.info(os.linesep + 'Загрузка модели')\n",
    "model.load_model()\n",
    "\n",
    "runner = runner_name(args)\n",
    "logging.info(os.linesep + 'Получение предсказаний')\n",
    "predictions = runner.predict(data_dict['test'])\n",
    "logging.info(os.linesep + 'Сохранение предсказаний')\n",
    "pd.DataFrame.from_records(predictions).to_csv(f'{MODEL_NAME}_prob.csv', sep='\\t', index=False)"
   ]
  },
  {
   "cell_type": "markdown",
   "id": "f2efa1d7",
   "metadata": {
    "cellId": "qwtzi0nye7syukh4rkzc4k"
   },
   "source": [
    "### KDA+GRU+SUM"
   ]
  },
  {
   "cell_type": "code",
   "execution_count": 5,
   "id": "8b4cba33",
   "metadata": {
    "cellId": "zeypzpj4wb8bmmm9skzll"
   },
   "outputs": [],
   "source": [
    "MODEL_NAME  = 'KDA_RNN' \n",
    "EMB_SIZE    = 40  \n",
    "LR          = 1e-3\n",
    "L2          = 1e-6\n",
    "DATASET     = 'ttrs' \n",
    "BATCH_SIZE  = 64  \n",
    "EPOCH       = 10   \n",
    "TOP_K       = '5,10,15'  \n",
    "VERBOSE     = 20   \n",
    "NUM_WORKERS = 4    \n",
    "RANDOM_SEED = 3500   \n",
    "TIME_SCALAR = (60 * 60 * 24) * 14  \n",
    "CAT_COL     = 'i_category'\n",
    "POOLING     = 'sum'\n",
    "RNN         = 'gru'"
   ]
  },
  {
   "cell_type": "code",
   "execution_count": 6,
   "id": "b32a4bd6",
   "metadata": {
    "cellId": "3bcw8jvef4b2sfpuzcf2f"
   },
   "outputs": [
    {
     "name": "stdout",
     "output_type": "stream",
     "text": [
      "Namespace(dataset='ttrs', model_name='KDA_RNN', rnn_model='gru')\n"
     ]
    }
   ],
   "source": [
    "args = parse_args_kda()\n",
    "args.batch_size      = BATCH_SIZE\n",
    "args.dataset         = DATASET        \n",
    "args.emb_size        = EMB_SIZE\n",
    "args.epoch           = EPOCH\n",
    "args.topk            = TOP_K\n",
    "args.verbose         = VERBOSE\n",
    "args.eval_batch_size = BATCH_SIZE  \n",
    "args.num_workers     = NUM_WORKERS\n",
    "args.random_seed     = RANDOM_SEED\n",
    "args.model_name      = MODEL_NAME     \n",
    "args.time_scalar     = TIME_SCALAR\n",
    "args.category_col    = CAT_COL   \n",
    "args.test_all        = 1  \n",
    "args.pooling         = POOLING\n",
    "args.time_max        = 20\n",
    "args.rnn_model       = RNN\n",
    "\n",
    "model_name = eval('{0}.{0}'.format(MODEL_NAME))\n",
    "reader_name = eval('{0}.{0}'.format(model_name.reader))\n",
    "runner_name = eval('{0}.{0}'.format(model_name.runner))"
   ]
  },
  {
   "cell_type": "code",
   "execution_count": 7,
   "id": "4125ae74",
   "metadata": {
    "cellId": "a5465r779d9sz0pj0ztob"
   },
   "outputs": [
    {
     "name": "stderr",
     "output_type": "stream",
     "text": [
      "\r"
     ]
    },
    {
     "name": "stdout",
     "output_type": "stream",
     "text": [
      "--------------------------------------------- BEGIN: 2022-05-30 13:57:14 ---------------------------------------------\n",
      "\n",
      "==============================\n",
      " Arguments       | Values     \n",
      "==============================\n",
      " attention_size  | 10        \n",
      " batch_size      | 64        \n",
      " category_col    | i_category\n",
      " dataset         | ttrs      \n",
      " dropout         | 0         \n",
      " early_stop      | 10        \n",
      " emb_size        | 40        \n",
      " epoch           | 10        \n",
      " eval_batch_size | 64        \n",
      " freq_rand       | 0         \n",
      " gamma           | -1        \n",
      " gpu             | 0         \n",
      " history_max     | 20        \n",
      " include_attr    | 0         \n",
      " include_val     | 1         \n",
      " l2              | 0         \n",
      " lr              | 0.001     \n",
      " model_name      | KDA_RNN   \n",
      " n_dft           | 64        \n",
      " neg_head_p      | 0.5       \n",
      " num_heads       | 1         \n",
      " num_layers      | 1         \n",
      " num_neg         | 1         \n",
      " num_workers     | 4         \n",
      " optimizer       | Adam      \n",
      " pooling         | sum       \n",
      " random_seed     | 3500      \n",
      " rnn_model       | gru       \n",
      " t_scalar        | 60        \n",
      " test_all        | 1         \n",
      " time_max        | 20        \n",
      " time_scalar     | 1209600   \n",
      " topk            | 5,10,15   \n",
      "==============================\n",
      "GPU available: True\n",
      "Load corpus from ../data/ttrs/DFTReader.pkl\n",
      "#params: 953073\n",
      "KDA_RNN(\n",
      "  (user_embeddings): Embedding(20465, 40, padding_idx=0)\n",
      "  (entity_embeddings): Embedding(1355, 40)\n",
      "  (relation_embeddings): Embedding(3, 40)\n",
      "  (relational_dynamic_aggregation): RelationalDynamicAggregation(\n",
      "    (relation_embeddings): Embedding(3, 40)\n",
      "    (freq_real): Embedding(3, 33)\n",
      "    (freq_imag): Embedding(3, 33)\n",
      "  )\n",
      "  (attn_head): MultiHeadAttention(\n",
      "    (q_linear): Linear(in_features=40, out_features=40, bias=False)\n",
      "    (k_linear): Linear(in_features=40, out_features=40, bias=False)\n",
      "    (v_linear): Linear(in_features=40, out_features=40, bias=False)\n",
      "  )\n",
      "  (W1): Linear(in_features=40, out_features=40, bias=True)\n",
      "  (W2): Linear(in_features=40, out_features=40, bias=True)\n",
      "  (dropout_layer): Dropout(p=0, inplace=False)\n",
      "  (layer_norm): LayerNorm((40,), eps=1e-05, elementwise_affine=True)\n",
      "  (item_bias): Embedding(1355, 1)\n",
      "  (emb_dropout): Dropout(p=0.1, inplace=False)\n",
      "  (rnn): GRU(40, 80, num_layers=2, bias=False, batch_first=True)\n",
      "  (dense): Linear(in_features=80, out_features=40, bias=True)\n",
      ")\n",
      "Optimizer: Adam\n",
      "Epoch 1     loss=0.1260 [169.2 s]    dev=(HR@5:0.7508,NDCG@5:0.7031) [13.5 s] *\n",
      "Epoch 2     loss=0.0784 [169.5 s]    dev=(HR@5:0.7745,NDCG@5:0.7356) [13.7 s] *\n",
      "Epoch 3     loss=0.0682 [168.1 s]    dev=(HR@5:0.7860,NDCG@5:0.7441) [13.2 s] *\n",
      "Epoch 4     loss=0.0626 [170.1 s]    dev=(HR@5:0.7858,NDCG@5:0.7526) [13.5 s] *\n",
      "Epoch 5     loss=0.0609 [167.5 s]    dev=(HR@5:0.7863,NDCG@5:0.7547) [13.6 s] *\n",
      "Epoch 6     loss=0.0585 [173.2 s]    dev=(HR@5:0.7864,NDCG@5:0.7472) [14.0 s]\n",
      "Epoch 7     loss=0.0567 [169.4 s]    dev=(HR@5:0.7833,NDCG@5:0.7481) [13.8 s]\n",
      "Epoch 8     loss=0.0552 [166.8 s]    dev=(HR@5:0.7863,NDCG@5:0.7504) [13.7 s]\n",
      "Epoch 9     loss=0.0552 [170.2 s]    dev=(HR@5:0.7876,NDCG@5:0.7575) [13.5 s] *\n",
      "Epoch 10    loss=0.0538 [171.4 s]    dev=(HR@5:0.7887,NDCG@5:0.7618) [13.6 s] *\n",
      "\n",
      "Best Iter(dev)=   10\t dev=(HR@5:0.7887,NDCG@5:0.7618) [1831.8 s] \n",
      "Load model from ../model/KDA_RNN/KDA_RNN__ttrs__gru__3500__sum__lr=0.001__l2=0__num_layers=1__num_heads=1__gamma=-1__freq_rand=0__include_val=1.pt\n",
      "\n",
      "Test After Training: (HR@5:0.8039,NDCG@5:0.7785,HR@10:0.8303,NDCG@10:0.7870,HR@15:0.8476,NDCG@15:0.7916)\n",
      "\n",
      "--------------------------------------------- END: 2022-05-30 14:28:21 ---------------------------------------------\n"
     ]
    }
   ],
   "source": [
    "run_model()"
   ]
  },
  {
   "cell_type": "markdown",
   "id": "7e110c47",
   "metadata": {
    "cellId": "5zw5z8dwrx88k3hredsugf"
   },
   "source": [
    "### Blending"
   ]
  },
  {
   "cell_type": "code",
   "execution_count": 5,
   "id": "d71c37ff",
   "metadata": {
    "cellId": "td6nya2khyqftgaehpjyo"
   },
   "outputs": [],
   "source": [
    "slrc_prob = pd.read_csv('SLRCPlus_prob.csv', sep='\\t')\n",
    "kda_prob = pd.read_csv('KDA_RNN_prob.csv', sep='\\t')\n",
    "tsr_prob = pd.read_csv('TiSASRec_prob.csv', sep='\\t')"
   ]
  },
  {
   "cell_type": "code",
   "execution_count": 6,
   "id": "d6f7cdbf",
   "metadata": {
    "cellId": "7h6anvqnv5p1gibbb1xoxh"
   },
   "outputs": [
    {
     "data": {
      "text/plain": [
       "((20464, 1355), (20464, 1355), (20464, 1355))"
      ]
     },
     "execution_count": 6,
     "metadata": {},
     "output_type": "execute_result"
    }
   ],
   "source": [
    "slrc_prob.shape, kda_prob.shape, tsr_prob.shape"
   ]
  },
  {
   "cell_type": "code",
   "execution_count": 52,
   "id": "f128dd6e",
   "metadata": {
    "cellId": "cx22ffunxow0ujyubpk7l5"
   },
   "outputs": [],
   "source": [
    "def evaluate_method(predictions: np.ndarray, topk: list, metrics: list) -> Dict[str, float]:\n",
    "        \"\"\"\n",
    "        :param predictions: (-1, n_candidates) shape, the first column is the score for ground-truth item\n",
    "        :param topk: top-K value list\n",
    "        :param metrics: metric string list\n",
    "        :return: a result dict, the keys are metric@topk\n",
    "        \"\"\"\n",
    "        evaluations = dict()\n",
    "        sort_idx = (-predictions).argsort(axis=1)\n",
    "        gt_rank = np.argwhere(sort_idx == 0)[:, 1] + 1\n",
    "        for k in topk:\n",
    "            hit = (gt_rank <= k)\n",
    "            for metric in metrics:\n",
    "                key = '{}@{}'.format(metric, k)\n",
    "                if metric == 'HR':\n",
    "                    evaluations[key] = round(hit.mean(), 4)\n",
    "                elif metric == 'NDCG':\n",
    "                    evaluations[key] = round((hit / np.log2(gt_rank + 1)).mean(), 4)\n",
    "                else:\n",
    "                    raise ValueError('Undefined evaluation metric: {}.'.format(metric))\n",
    "        return evaluations"
   ]
  },
  {
   "cell_type": "code",
   "execution_count": 53,
   "id": "6bdb1517",
   "metadata": {
    "cellId": "v5mquqp8lln02kz6mstopgo"
   },
   "outputs": [
    {
     "data": {
      "text/plain": [
       "(20464, 1355)"
      ]
     },
     "execution_count": 53,
     "metadata": {},
     "output_type": "execute_result"
    }
   ],
   "source": [
    "mean_prob = np.stack([(slrc_prob.values, kda_prob.values, tsr_prob.values)]).squeeze().mean(0)\n",
    "mean_prob.shape"
   ]
  },
  {
   "cell_type": "markdown",
   "id": "332e8c34",
   "metadata": {
    "cellId": "af88qfiffrnjw1brzero"
   },
   "source": [
    "### SLRC+"
   ]
  },
  {
   "cell_type": "code",
   "execution_count": 5,
   "id": "16f3ec4e",
   "metadata": {
    "cellId": "f0usy6gsjc65dl5ns8hzfq"
   },
   "outputs": [],
   "source": [
    "MODEL_NAME  = 'SLRCPlus' \n",
    "EMB_SIZE    = 40  \n",
    "LR          = 1e-3\n",
    "L2          = 1e-6\n",
    "DATASET     = 'ttrs'\n",
    "BATCH_SIZE  = 64  \n",
    "EPOCH       = 10   \n",
    "TOP_K       = '5,10,15'  \n",
    "VERBOSE     = 20   \n",
    "NUM_WORKERS = 4    \n",
    "RANDOM_SEED = 3500   \n",
    "TIME_SCALAR = (60 * 60 * 24) * 14 # 14 days per interval\n",
    "CAT_COL     = 'i_category'\n",
    "POOLING     = 'average'"
   ]
  },
  {
   "cell_type": "code",
   "execution_count": 6,
   "id": "7add0d0a",
   "metadata": {
    "cellId": "v3o4jpmyz9djgkv488w1c"
   },
   "outputs": [
    {
     "name": "stdout",
     "output_type": "stream",
     "text": [
      "Namespace(dataset='ttrs', model_name='SLRCPlus')\n"
     ]
    }
   ],
   "source": [
    "args = parse_args()\n",
    "args.batch_size      = BATCH_SIZE\n",
    "args.dataset         = DATASET        \n",
    "args.emb_size        = EMB_SIZE\n",
    "args.epoch           = EPOCH\n",
    "args.topk            = TOP_K\n",
    "args.verbose         = VERBOSE\n",
    "args.eval_batch_size = BATCH_SIZE \n",
    "args.num_workers     = NUM_WORKERS\n",
    "args.random_seed     = RANDOM_SEED\n",
    "args.time_scalar     = TIME_SCALAR\n",
    "args.category_col    = CAT_COL   \n",
    "args.test_all        = 1  \n",
    "args.pooling         = POOLING"
   ]
  },
  {
   "cell_type": "code",
   "execution_count": 7,
   "id": "2dddadb1",
   "metadata": {
    "cellId": "gjyxz2zvsblz1os91lm2l"
   },
   "outputs": [
    {
     "data": {
      "text/plain": [
       "Namespace(batch_size=64, buffer=1, category_col='i_category', check_epoch=1, dataset='ttrs', dropout=0, early_stop=10, emb_size=40, epoch=10, eval_batch_size=64, gpu='0', history_max=20, include_attr=0, l2=0, load=0, log_file='../log/SLRCPlus/SLRCPlus__ttrs__3500__average__lr=0.001__l2=0__emb_size=64.txt', lr=0.001, metric='NDCG,HR', model_path='../model/SLRCPlus/SLRCPlus__ttrs__3500__average__lr=0.001__l2=0__emb_size=64.pt', num_neg=1, num_workers=4, optimizer='Adam', path='../data/', pin_memory=0, pooling='average', random_seed=3500, regenerate=0, sep='\\t', test_all=1, test_epoch=-1, time_scalar=1209600, topk='5,10,15', train=1, verbose=20)"
      ]
     },
     "execution_count": 7,
     "metadata": {},
     "output_type": "execute_result"
    }
   ],
   "source": [
    "args"
   ]
  },
  {
   "cell_type": "code",
   "execution_count": 8,
   "id": "98ce0b62",
   "metadata": {
    "cellId": "3te4cjsx6llvuqc7l14ny"
   },
   "outputs": [],
   "source": [
    "model_name = eval('{0}.{0}'.format(MODEL_NAME))\n",
    "reader_name = eval('{0}.{0}'.format(model_name.reader))\n",
    "runner_name = eval('{0}.{0}'.format(model_name.runner))"
   ]
  },
  {
   "cell_type": "code",
   "execution_count": 17,
   "id": "503a0615",
   "metadata": {
    "cellId": "cdsxyxzf95sbhqr5wfs1eg"
   },
   "outputs": [
    {
     "name": "stderr",
     "output_type": "stream",
     "text": [
      "\r"
     ]
    },
    {
     "name": "stdout",
     "output_type": "stream",
     "text": [
      "--------------------------------------------- BEGIN: 2022-05-29 19:34:47 ---------------------------------------------\n",
      "\n",
      "==============================\n",
      " Arguments       | Values     \n",
      "==============================\n",
      " batch_size      | 64        \n",
      " category_col    | i_category\n",
      " dataset         | ttrs      \n",
      " dropout         | 0         \n",
      " early_stop      | 10        \n",
      " emb_size        | 40        \n",
      " epoch           | 10        \n",
      " eval_batch_size | 64        \n",
      " gpu             | 0         \n",
      " history_max     | 20        \n",
      " include_attr    | 0         \n",
      " l2              | 0         \n",
      " lr              | 0.001     \n",
      " num_neg         | 1         \n",
      " num_workers     | 4         \n",
      " optimizer       | Adam      \n",
      " pooling         | average   \n",
      " random_seed     | 3500      \n",
      " test_all        | 1         \n",
      " time_scalar     | 1209600   \n",
      " topk            | 5,10,15   \n",
      "==============================\n",
      "GPU available: True\n",
      "Reading data from \"../data/\", dataset = \"ttrs\" \n",
      "Counting dataset statistics...\n",
      "\"# user\": 20464, \"# item\": 1354, \"# entry\": 730393\n",
      "Appending history info...\n",
      "Constructing relation triplets...\n",
      "Item-item relations:['r_complement', 'r_substitute']\n",
      "\"# relation\": 3, \"# triplet\": 36012\n",
      "Save corpus to ../data/ttrs/KGReader.pkl\n",
      "#params: 914946\n",
      "SLRCPlus(\n",
      "  (u_embeddings): Embedding(20465, 40)\n",
      "  (i_embeddings): Embedding(1355, 40)\n",
      "  (user_bias): Embedding(20465, 1)\n",
      "  (item_bias): Embedding(1355, 1)\n",
      "  (alphas): Embedding(1355, 3)\n",
      "  (pis): Embedding(1355, 3)\n",
      "  (betas): Embedding(1355, 3)\n",
      "  (sigmas): Embedding(1355, 3)\n",
      "  (mus): Embedding(1355, 3)\n",
      ")\n",
      "Optimizer: Adam\n",
      "Epoch 1     loss=0.1397 [71.2 s]    dev=(HR@5:0.6717,NDCG@5:0.6057) [4.5 s] *\n",
      "Epoch 2     loss=0.0782 [71.4 s]    dev=(HR@5:0.7238,NDCG@5:0.6778) [4.6 s] *\n",
      "Epoch 3     loss=0.0656 [72.0 s]    dev=(HR@5:0.7469,NDCG@5:0.7048) [4.6 s] *\n",
      "Epoch 4     loss=0.0564 [71.5 s]    dev=(HR@5:0.7555,NDCG@5:0.7186) [4.5 s] *\n",
      "Epoch 5     loss=0.0487 [73.0 s]    dev=(HR@5:0.7672,NDCG@5:0.7309) [4.5 s] *\n",
      "Epoch 6     loss=0.0426 [71.6 s]    dev=(HR@5:0.7708,NDCG@5:0.7368) [4.5 s] *\n",
      "Epoch 7     loss=0.0376 [72.3 s]    dev=(HR@5:0.7732,NDCG@5:0.7410) [4.6 s] *\n",
      "Epoch 8     loss=0.0337 [71.0 s]    dev=(HR@5:0.7749,NDCG@5:0.7428) [4.5 s] *\n",
      "Epoch 9     loss=0.0300 [72.8 s]    dev=(HR@5:0.7759,NDCG@5:0.7452) [4.5 s] *\n",
      "Epoch 10    loss=0.0269 [72.0 s]    dev=(HR@5:0.7792,NDCG@5:0.7475) [4.5 s] *\n",
      "\n",
      "Best Iter(dev)=   10\t dev=(HR@5:0.7792,NDCG@5:0.7475) [764.5 s] \n",
      "Load model from ../model/SLRCPlus/SLRCPlus__ttrs__3500__average__lr=0.001__l2=0__emb_size=64.pt\n",
      "\n",
      "Test After Training: (HR@5:0.7930,NDCG@5:0.7635,HR@10:0.8225,NDCG@10:0.7730,HR@15:0.8415,NDCG@15:0.7781)\n",
      "\n",
      "--------------------------------------------- END: 2022-05-29 20:06:13 ---------------------------------------------\n"
     ]
    }
   ],
   "source": [
    "run_model()"
   ]
  },
  {
   "cell_type": "code",
   "execution_count": 9,
   "id": "93535c30",
   "metadata": {
    "cellId": "9f7ws9ny5yjzgfc1z26n4"
   },
   "outputs": [
    {
     "name": "stdout",
     "output_type": "stream",
     "text": [
      "GPU available: True\n",
      "Load corpus from ../data/ttrs/KGReader.pkl\n",
      "#params: 914946\n",
      "SLRCPlus(\n",
      "  (u_embeddings): Embedding(20465, 40)\n",
      "  (i_embeddings): Embedding(1355, 40)\n",
      "  (user_bias): Embedding(20465, 1)\n",
      "  (item_bias): Embedding(1355, 1)\n",
      "  (alphas): Embedding(1355, 3)\n",
      "  (pis): Embedding(1355, 3)\n",
      "  (betas): Embedding(1355, 3)\n",
      "  (sigmas): Embedding(1355, 3)\n",
      "  (mus): Embedding(1355, 3)\n",
      ")\n",
      "\n",
      "Загрузка модели\n",
      "Load model from ../model/SLRCPlus/SLRCPlus__ttrs__3500__average__lr=0.001__l2=0__emb_size=64.pt\n",
      "\n",
      "Получение предсказаний\n",
      "\n",
      "Сохранение предсказаний\n"
     ]
    },
    {
     "name": "stderr",
     "output_type": "stream",
     "text": [
      "\r"
     ]
    }
   ],
   "source": [
    "# For Blending\n",
    "# Random seed\n",
    "np.random.seed(args.random_seed)\n",
    "torch.manual_seed(args.random_seed)\n",
    "torch.cuda.manual_seed(args.random_seed)\n",
    "torch.backends.cudnn.deterministic = True\n",
    "\n",
    "# GPU\n",
    "os.environ[\"CUDA_VISIBLE_DEVICES\"] = args.gpu\n",
    "logging.info('GPU available: {}'.format(torch.cuda.is_available()))\n",
    "\n",
    "# # Read data\n",
    "corpus_path = os.path.join(args.path, args.dataset, model_name.reader + '.pkl')\n",
    "if not args.regenerate and os.path.exists(corpus_path):\n",
    "    logging.info('Load corpus from {}'.format(corpus_path))\n",
    "    corpus = pickle.load(open(corpus_path, 'rb'))\n",
    "else:\n",
    "    corpus = reader_name(args)\n",
    "    logging.info('Save corpus to {}'.format(corpus_path))\n",
    "    pickle.dump(corpus, open(corpus_path, 'wb'))\n",
    "\n",
    "# # Define model\n",
    "model = model_name(args, corpus)\n",
    "logging.info(model)\n",
    "model.apply(model.init_weights)\n",
    "model.actions_before_train()\n",
    "model.to(model.device)\n",
    "\n",
    "# # Run model\n",
    "data_dict = dict()\n",
    "for phase in ['test']:\n",
    "    data_dict[phase] = model_name.Dataset(model, corpus, phase)\n",
    "runner = runner_name(args)\n",
    "logging.info(os.linesep + 'Загрузка модели')\n",
    "model.load_model()\n",
    "\n",
    "runner = runner_name(args)\n",
    "logging.info(os.linesep + 'Получение предсказаний')\n",
    "predictions = runner.predict(data_dict['test'])\n",
    "logging.info(os.linesep + 'Сохранение предсказаний')\n",
    "pd.DataFrame.from_records(predictions).to_csv(f'{MODEL_NAME}_prob.csv', sep='\\t', index=False)"
   ]
  },
  {
   "cell_type": "markdown",
   "id": "f17db3d9",
   "metadata": {
    "cellId": "hlpljr1a4xs48kl08zy1f7"
   },
   "source": [
    "#### TiSASRec"
   ]
  },
  {
   "cell_type": "code",
   "execution_count": 5,
   "id": "265b9a3b",
   "metadata": {
    "cellId": "d6eeop7gicugnlzl435t2"
   },
   "outputs": [],
   "source": [
    "MODEL_NAME  = 'TiSASRec' \n",
    "EMB_SIZE    = 40  \n",
    "LR          = 1e-3\n",
    "L2          = 1e-6\n",
    "DATASET     = 'ttrs' #  \n",
    "BATCH_SIZE  = 64  \n",
    "EPOCH       = 10   \n",
    "TOP_K       = '5,10,15'  \n",
    "VERBOSE     = 20   \n",
    "NUM_WORKERS = 4    \n",
    "RANDOM_SEED = 3500   \n",
    "TIME_SCALAR = (60 * 60 * 24) * 14  \n",
    "CAT_COL     = 'i_category'\n",
    "POOLING     = 'average'"
   ]
  },
  {
   "cell_type": "code",
   "execution_count": 6,
   "id": "c6e8a6d5",
   "metadata": {
    "cellId": "624w982m5irl644kau27nk"
   },
   "outputs": [
    {
     "name": "stdout",
     "output_type": "stream",
     "text": [
      "Namespace(dataset='ttrs', model_name='TiSASRec')\n"
     ]
    }
   ],
   "source": [
    "args = parse_args()"
   ]
  },
  {
   "cell_type": "code",
   "execution_count": 7,
   "id": "5a7d007f",
   "metadata": {
    "cellId": "hb466ixzu973ymiv9zny8f"
   },
   "outputs": [],
   "source": [
    "args.batch_size      = BATCH_SIZE\n",
    "args.dataset         = DATASET        \n",
    "args.emb_size        = EMB_SIZE\n",
    "args.epoch           = EPOCH\n",
    "args.topk            = TOP_K\n",
    "args.verbose         = VERBOSE\n",
    "args.eval_batch_size = BATCH_SIZE  \n",
    "args.num_workers     = NUM_WORKERS\n",
    "args.random_seed     = RANDOM_SEED\n",
    "args.model_name      = MODEL_NAME     \n",
    "args.time_scalar     = TIME_SCALAR\n",
    "args.category_col    = CAT_COL   \n",
    "args.test_all        = 1  \n",
    "args.pooling         = POOLING\n",
    "args.time_max        = 20\n",
    "# args.t_scalar        = #??? "
   ]
  },
  {
   "cell_type": "code",
   "execution_count": 8,
   "id": "9bc4f1c4",
   "metadata": {
    "cellId": "qozra5pkesh0e1p9e0da8wv"
   },
   "outputs": [
    {
     "data": {
      "text/plain": [
       "Namespace(batch_size=64, buffer=1, category_col='i_category', check_epoch=1, dataset='ttrs', dropout=0, early_stop=10, emb_size=40, epoch=10, eval_batch_size=64, gpu='0', history_max=20, l2=0, load=0, log_file='../log/TiSASRec/TiSASRec__ttrs__3500__average__lr=0.001__l2=0__emb_size=64__num_layers=1__num_heads=4__time_max=512.txt', lr=0.001, metric='NDCG,HR', model_name='TiSASRec', model_path='../model/TiSASRec/TiSASRec__ttrs__3500__average__lr=0.001__l2=0__emb_size=64__num_layers=1__num_heads=4__time_max=512.pt', num_heads=4, num_layers=1, num_neg=1, num_workers=4, optimizer='Adam', path='../data/', pin_memory=0, pooling='average', random_seed=3500, regenerate=0, sep='\\t', test_all=1, test_epoch=-1, time_max=20, time_scalar=1209600, topk='5,10,15', train=1, verbose=20)"
      ]
     },
     "execution_count": 8,
     "metadata": {},
     "output_type": "execute_result"
    }
   ],
   "source": [
    "args"
   ]
  },
  {
   "cell_type": "code",
   "execution_count": 9,
   "id": "182a0f59",
   "metadata": {
    "cellId": "igjt1eji7keg7xsv3v3ur"
   },
   "outputs": [],
   "source": [
    "model_name = eval('{0}.{0}'.format(MODEL_NAME))\n",
    "reader_name = eval('{0}.{0}'.format(model_name.reader))\n",
    "runner_name = eval('{0}.{0}'.format(model_name.runner))"
   ]
  },
  {
   "cell_type": "code",
   "execution_count": 11,
   "id": "803c0e42",
   "metadata": {
    "cellId": "3wkg2jrwcin02feg33txy1t"
   },
   "outputs": [
    {
     "name": "stderr",
     "output_type": "stream",
     "text": [
      "\r"
     ]
    },
    {
     "name": "stdout",
     "output_type": "stream",
     "text": [
      "--------------------------------------------- BEGIN: 2022-05-29 20:09:26 ---------------------------------------------\n",
      "\n",
      "==============================\n",
      " Arguments       | Values     \n",
      "==============================\n",
      " batch_size      | 64        \n",
      " category_col    | i_category\n",
      " dataset         | ttrs      \n",
      " dropout         | 0         \n",
      " early_stop      | 10        \n",
      " emb_size        | 40        \n",
      " epoch           | 10        \n",
      " eval_batch_size | 64        \n",
      " gpu             | 0         \n",
      " history_max     | 20        \n",
      " l2              | 0         \n",
      " lr              | 0.001     \n",
      " num_heads       | 4         \n",
      " num_layers      | 1         \n",
      " num_neg         | 1         \n",
      " num_workers     | 4         \n",
      " optimizer       | Adam      \n",
      " pooling         | average   \n",
      " random_seed     | 3500      \n",
      " test_all        | 1         \n",
      " time_max        | 20        \n",
      " time_scalar     | 1209600   \n",
      " topk            | 5,10,15   \n",
      "==============================\n",
      "GPU available: True\n",
      "Reading data from \"../data/\", dataset = \"ttrs\" \n",
      "Counting dataset statistics...\n",
      "\"# user\": 20464, \"# item\": 1354, \"# entry\": 730393\n",
      "Appending history info...\n",
      "Save corpus to ../data/ttrs/BaseReader.pkl\n",
      "#params: 65920\n",
      "TiSASRec(\n",
      "  (i_embeddings): Embedding(1355, 40)\n",
      "  (p_k_embeddings): Embedding(21, 40)\n",
      "  (p_v_embeddings): Embedding(21, 40)\n",
      "  (t_k_embeddings): Embedding(21, 40)\n",
      "  (t_v_embeddings): Embedding(21, 40)\n",
      "  (transformer_block): ModuleList(\n",
      "    (0): TimeIntervalTransformerLayer(\n",
      "      (masked_attn_head): TimeIntervalMultiHeadAttention(\n",
      "        (v_linear): Linear(in_features=40, out_features=40, bias=True)\n",
      "        (k_linear): Linear(in_features=40, out_features=40, bias=True)\n",
      "        (q_linear): Linear(in_features=40, out_features=40, bias=True)\n",
      "      )\n",
      "      (layer_norm1): LayerNorm((40,), eps=1e-05, elementwise_affine=True)\n",
      "      (dropout1): Dropout(p=0, inplace=False)\n",
      "      (linear1): Linear(in_features=40, out_features=40, bias=True)\n",
      "      (linear2): Linear(in_features=40, out_features=40, bias=True)\n",
      "      (layer_norm2): LayerNorm((40,), eps=1e-05, elementwise_affine=True)\n",
      "      (dropout2): Dropout(p=0, inplace=False)\n",
      "    )\n",
      "  )\n",
      ")\n",
      "Optimizer: Adam\n",
      "Epoch 1     loss=0.1098 [98.5 s]    dev=(HR@5:0.5603,NDCG@5:0.4499) [4.4 s] *\n",
      "Epoch 2     loss=0.0759 [99.3 s]    dev=(HR@5:0.6100,NDCG@5:0.5041) [4.4 s] *\n",
      "Epoch 3     loss=0.0688 [100.3 s]    dev=(HR@5:0.6332,NDCG@5:0.5303) [4.5 s] *\n",
      "Epoch 4     loss=0.0652 [100.6 s]    dev=(HR@5:0.6351,NDCG@5:0.5283) [4.6 s]\n",
      "Epoch 5     loss=0.0625 [100.3 s]    dev=(HR@5:0.6536,NDCG@5:0.5529) [4.5 s] *\n",
      "Epoch 6     loss=0.0602 [102.0 s]    dev=(HR@5:0.6525,NDCG@5:0.5494) [4.5 s]\n",
      "Epoch 7     loss=0.0586 [101.0 s]    dev=(HR@5:0.6641,NDCG@5:0.5640) [4.6 s] *\n",
      "Epoch 8     loss=0.0575 [100.4 s]    dev=(HR@5:0.6726,NDCG@5:0.5715) [4.6 s] *\n",
      "Epoch 9     loss=0.0560 [101.2 s]    dev=(HR@5:0.6653,NDCG@5:0.5664) [4.5 s]\n",
      "Epoch 10    loss=0.0554 [101.0 s]    dev=(HR@5:0.6767,NDCG@5:0.5840) [4.6 s] *\n",
      "\n",
      "Best Iter(dev)=   10\t dev=(HR@5:0.6767,NDCG@5:0.5840) [1049.8 s] \n",
      "Load model from ../model/TiSASRec/TiSASRec__ttrs__3500__average__lr=0.001__l2=0__emb_size=64__num_layers=1__num_heads=4__time_max=512.pt\n",
      "\n",
      "Test After Training: (HR@5:0.6924,NDCG@5:0.6004,HR@10:0.7593,NDCG@10:0.6220,HR@15:0.7949,NDCG@15:0.6314)\n",
      "\n",
      "--------------------------------------------- END: 2022-05-29 20:27:20 ---------------------------------------------\n"
     ]
    }
   ],
   "source": [
    "run_model()"
   ]
  },
  {
   "cell_type": "code",
   "execution_count": 10,
   "id": "908106e4",
   "metadata": {
    "cellId": "v8jtd89la2nw2o6wc6l1"
   },
   "outputs": [
    {
     "name": "stdout",
     "output_type": "stream",
     "text": [
      "GPU available: True\n",
      "Load corpus from ../data/ttrs/BaseReader.pkl\n",
      "#params: 65920\n",
      "TiSASRec(\n",
      "  (i_embeddings): Embedding(1355, 40)\n",
      "  (p_k_embeddings): Embedding(21, 40)\n",
      "  (p_v_embeddings): Embedding(21, 40)\n",
      "  (t_k_embeddings): Embedding(21, 40)\n",
      "  (t_v_embeddings): Embedding(21, 40)\n",
      "  (transformer_block): ModuleList(\n",
      "    (0): TimeIntervalTransformerLayer(\n",
      "      (masked_attn_head): TimeIntervalMultiHeadAttention(\n",
      "        (v_linear): Linear(in_features=40, out_features=40, bias=True)\n",
      "        (k_linear): Linear(in_features=40, out_features=40, bias=True)\n",
      "        (q_linear): Linear(in_features=40, out_features=40, bias=True)\n",
      "      )\n",
      "      (layer_norm1): LayerNorm((40,), eps=1e-05, elementwise_affine=True)\n",
      "      (dropout1): Dropout(p=0, inplace=False)\n",
      "      (linear1): Linear(in_features=40, out_features=40, bias=True)\n",
      "      (linear2): Linear(in_features=40, out_features=40, bias=True)\n",
      "      (layer_norm2): LayerNorm((40,), eps=1e-05, elementwise_affine=True)\n",
      "      (dropout2): Dropout(p=0, inplace=False)\n",
      "    )\n",
      "  )\n",
      ")\n",
      "\n",
      "Загрузка модели\n",
      "Load model from ../model/TiSASRec/TiSASRec__ttrs__3500__average__lr=0.001__l2=0__emb_size=64__num_layers=1__num_heads=4__time_max=512.pt\n",
      "\n",
      "Получение предсказаний\n",
      "\n",
      "Сохранение предсказаний\n"
     ]
    },
    {
     "name": "stderr",
     "output_type": "stream",
     "text": [
      "\r"
     ]
    }
   ],
   "source": [
    "# For Blending\n",
    "# Random seed\n",
    "np.random.seed(args.random_seed)\n",
    "torch.manual_seed(args.random_seed)\n",
    "torch.cuda.manual_seed(args.random_seed)\n",
    "torch.backends.cudnn.deterministic = True\n",
    "\n",
    "# GPU\n",
    "os.environ[\"CUDA_VISIBLE_DEVICES\"] = args.gpu\n",
    "logging.info('GPU available: {}'.format(torch.cuda.is_available()))\n",
    "\n",
    "# # Read data\n",
    "corpus_path = os.path.join(args.path, args.dataset, model_name.reader + '.pkl')\n",
    "if not args.regenerate and os.path.exists(corpus_path):\n",
    "    logging.info('Load corpus from {}'.format(corpus_path))\n",
    "    corpus = pickle.load(open(corpus_path, 'rb'))\n",
    "else:\n",
    "    corpus = reader_name(args)\n",
    "    logging.info('Save corpus to {}'.format(corpus_path))\n",
    "    pickle.dump(corpus, open(corpus_path, 'wb'))\n",
    "\n",
    "# # Define model\n",
    "model = model_name(args, corpus)\n",
    "logging.info(model)\n",
    "model.apply(model.init_weights)\n",
    "model.actions_before_train()\n",
    "model.to(model.device)\n",
    "\n",
    "# # Run model\n",
    "data_dict = dict()\n",
    "for phase in ['test']:\n",
    "    data_dict[phase] = model_name.Dataset(model, corpus, phase)\n",
    "runner = runner_name(args)\n",
    "logging.info(os.linesep + 'Загрузка модели')\n",
    "model.load_model()\n",
    "\n",
    "runner = runner_name(args)\n",
    "logging.info(os.linesep + 'Получение предсказаний')\n",
    "predictions = runner.predict(data_dict['test'])\n",
    "logging.info(os.linesep + 'Сохранение предсказаний')\n",
    "pd.DataFrame.from_records(predictions).to_csv(f'{MODEL_NAME}_prob.csv', sep='\\t', index=False)"
   ]
  },
  {
   "cell_type": "markdown",
   "id": "fd26f390",
   "metadata": {
    "cellId": "c1ss5y3ypwsq1njrakhtf"
   },
   "source": [
    "#### SASRec"
   ]
  },
  {
   "cell_type": "code",
   "execution_count": 5,
   "id": "2597deba",
   "metadata": {
    "cellId": "pk7jkdq9gbebhdksv7mf"
   },
   "outputs": [],
   "source": [
    "MODEL_NAME  = 'SASRec' \n",
    "EMB_SIZE    = 40  \n",
    "LR          = 1e-3\n",
    "L2          = 1e-6\n",
    "DATASET     = 'ttrs' #  \n",
    "BATCH_SIZE  = 64  \n",
    "EPOCH       = 10   \n",
    "TOP_K       = '5,10,15'  \n",
    "VERBOSE     = 20   \n",
    "NUM_WORKERS = 4    \n",
    "RANDOM_SEED = 3500   \n",
    "TIME_SCALAR = (60 * 60 * 24) * 14  \n",
    "CAT_COL     = 'i_category'\n",
    "POOLING     = 'average'"
   ]
  },
  {
   "cell_type": "code",
   "execution_count": 6,
   "id": "6803c30b",
   "metadata": {
    "cellId": "cdu363hvdkd9dpbd84afs"
   },
   "outputs": [
    {
     "name": "stdout",
     "output_type": "stream",
     "text": [
      "Namespace(dataset='ttrs', model_name='SASRec')\n"
     ]
    }
   ],
   "source": [
    "args = parse_args()\n",
    "args.batch_size      = BATCH_SIZE\n",
    "args.dataset         = DATASET        \n",
    "args.emb_size        = EMB_SIZE\n",
    "args.epoch           = EPOCH\n",
    "args.topk            = TOP_K\n",
    "args.verbose         = VERBOSE\n",
    "args.eval_batch_size = BATCH_SIZE  \n",
    "args.num_workers     = NUM_WORKERS\n",
    "args.random_seed     = RANDOM_SEED\n",
    "args.model_name      = MODEL_NAME     \n",
    "args.time_scalar     = TIME_SCALAR\n",
    "args.category_col    = CAT_COL   \n",
    "args.test_all        = 1  \n",
    "args.pooling         = POOLING\n",
    "args.time_max        = 20\n",
    "\n",
    "model_name = eval('{0}.{0}'.format(MODEL_NAME))\n",
    "reader_name = eval('{0}.{0}'.format(model_name.reader))\n",
    "runner_name = eval('{0}.{0}'.format(model_name.runner))"
   ]
  },
  {
   "cell_type": "code",
   "execution_count": 7,
   "id": "92d24565",
   "metadata": {
    "cellId": "9x8zq3ymcj4h9idotuct4"
   },
   "outputs": [
    {
     "name": "stderr",
     "output_type": "stream",
     "text": [
      "\r"
     ]
    },
    {
     "name": "stdout",
     "output_type": "stream",
     "text": [
      "--------------------------------------------- BEGIN: 2022-05-29 20:31:08 ---------------------------------------------\n",
      "\n",
      "==============================\n",
      " Arguments       | Values     \n",
      "==============================\n",
      " batch_size      | 64        \n",
      " category_col    | i_category\n",
      " dataset         | ttrs      \n",
      " dropout         | 0         \n",
      " early_stop      | 10        \n",
      " emb_size        | 40        \n",
      " epoch           | 10        \n",
      " eval_batch_size | 64        \n",
      " gpu             | 0         \n",
      " history_max     | 20        \n",
      " l2              | 0         \n",
      " lr              | 0.001     \n",
      " model_name      | SASRec    \n",
      " num_heads       | 4         \n",
      " num_layers      | 1         \n",
      " num_neg         | 1         \n",
      " num_workers     | 4         \n",
      " optimizer       | Adam      \n",
      " pooling         | average   \n",
      " random_seed     | 3500      \n",
      " test_all        | 1         \n",
      " time_max        | 20        \n",
      " time_scalar     | 1209600   \n",
      " topk            | 5,10,15   \n",
      "==============================\n",
      "GPU available: True\n",
      "Load corpus from ../data/ttrs/BaseReader.pkl\n",
      "#params: 63400\n",
      "SASRec(\n",
      "  (i_embeddings): Embedding(1355, 40)\n",
      "  (p_embeddings): Embedding(21, 40)\n",
      "  (transformer_block): ModuleList(\n",
      "    (0): TransformerLayer(\n",
      "      (masked_attn_head): MultiHeadAttention(\n",
      "        (q_linear): Linear(in_features=40, out_features=40, bias=True)\n",
      "        (k_linear): Linear(in_features=40, out_features=40, bias=True)\n",
      "        (v_linear): Linear(in_features=40, out_features=40, bias=True)\n",
      "      )\n",
      "      (layer_norm1): LayerNorm((40,), eps=1e-05, elementwise_affine=True)\n",
      "      (dropout1): Dropout(p=0, inplace=False)\n",
      "      (linear1): Linear(in_features=40, out_features=40, bias=True)\n",
      "      (linear2): Linear(in_features=40, out_features=40, bias=True)\n",
      "      (layer_norm2): LayerNorm((40,), eps=1e-05, elementwise_affine=True)\n",
      "      (dropout2): Dropout(p=0, inplace=False)\n",
      "    )\n",
      "  )\n",
      ")\n",
      "Optimizer: Adam\n",
      "Epoch 1     loss=0.1100 [81.2 s]    dev=(HR@5:0.5759,NDCG@5:0.4711) [4.3 s] *\n",
      "Epoch 2     loss=0.0765 [82.4 s]    dev=(HR@5:0.6006,NDCG@5:0.4920) [4.2 s] *\n",
      "Epoch 3     loss=0.0695 [81.1 s]    dev=(HR@5:0.6314,NDCG@5:0.5290) [4.3 s] *\n",
      "Epoch 4     loss=0.0657 [81.9 s]    dev=(HR@5:0.6391,NDCG@5:0.5388) [4.2 s] *\n",
      "Epoch 5     loss=0.0631 [82.5 s]    dev=(HR@5:0.6465,NDCG@5:0.5481) [4.2 s] *\n",
      "Epoch 6     loss=0.0610 [81.3 s]    dev=(HR@5:0.6548,NDCG@5:0.5559) [4.2 s] *\n",
      "Epoch 7     loss=0.0593 [81.8 s]    dev=(HR@5:0.6633,NDCG@5:0.5692) [4.1 s] *\n",
      "Epoch 8     loss=0.0582 [82.5 s]    dev=(HR@5:0.6691,NDCG@5:0.5761) [4.3 s] *\n",
      "Epoch 9     loss=0.0569 [82.1 s]    dev=(HR@5:0.6683,NDCG@5:0.5704) [4.2 s]\n",
      "Epoch 10    loss=0.0562 [81.6 s]    dev=(HR@5:0.6633,NDCG@5:0.5689) [4.2 s]\n",
      "\n",
      "Best Iter(dev)=    8\t dev=(HR@5:0.6691,NDCG@5:0.5761) [860.6 s] \n",
      "Load model from ../model/SASRec/SASRec__ttrs__3500__average__lr=0.001__l2=0__emb_size=64__num_layers=1__num_heads=4.pt\n",
      "\n",
      "Test After Training: (HR@5:0.6801,NDCG@5:0.5906,HR@10:0.7522,NDCG@10:0.6140,HR@15:0.7892,NDCG@15:0.6238)\n",
      "\n",
      "--------------------------------------------- END: 2022-05-29 20:45:39 ---------------------------------------------\n"
     ]
    }
   ],
   "source": [
    "run_model()"
   ]
  },
  {
   "cell_type": "markdown",
   "id": "260d174f",
   "metadata": {
    "cellId": "hyxsf6obhsoz8s6t76bbga"
   },
   "source": [
    "#### Caser"
   ]
  },
  {
   "cell_type": "code",
   "execution_count": null,
   "id": "d8658d1a",
   "metadata": {
    "cellId": "5ss4ikzgl3gxry9f8w6he"
   },
   "outputs": [],
   "source": [
    "MODEL_NAME  = 'Caser' \n",
    "EMB_SIZE    = 40  \n",
    "LR          = 1e-3\n",
    "L2          = 1e-6\n",
    "DATASET     = 'ttrs'\n",
    "BATCH_SIZE  = 64  \n",
    "EPOCH       = 10   \n",
    "TOP_K       = '5,10,15'  \n",
    "VERBOSE     = 20   \n",
    "NUM_WORKERS = 4    \n",
    "RANDOM_SEED = 3500   \n",
    "TIME_SCALAR = (60 * 60 * 24) * 14  \n",
    "CAT_COL     = 'i_category'\n",
    "POOLING     = 'average'"
   ]
  },
  {
   "cell_type": "code",
   "execution_count": null,
   "id": "6618c18c",
   "metadata": {
    "cellId": "sfi000j0qdmndf6cg31nzb"
   },
   "outputs": [],
   "source": [
    "args = parse_args()\n",
    "args.batch_size      = BATCH_SIZE\n",
    "args.dataset         = DATASET        \n",
    "args.emb_size        = EMB_SIZE\n",
    "args.epoch           = EPOCH\n",
    "args.topk            = TOP_K\n",
    "args.verbose         = VERBOSE\n",
    "args.eval_batch_size = BATCH_SIZE  \n",
    "args.num_workers     = NUM_WORKERS\n",
    "args.random_seed     = RANDOM_SEED\n",
    "args.model_name      = MODEL_NAME     \n",
    "args.time_scalar     = TIME_SCALAR\n",
    "args.category_col    = CAT_COL   \n",
    "args.test_all        = 1  \n",
    "args.pooling         = POOLING\n",
    "args.time_max        = 20\n",
    "\n",
    "model_name = eval('{0}.{0}'.format(MODEL_NAME))\n",
    "reader_name = eval('{0}.{0}'.format(model_name.reader))\n",
    "runner_name = eval('{0}.{0}'.format(model_name.runner))"
   ]
  },
  {
   "cell_type": "code",
   "execution_count": null,
   "id": "07a3360f",
   "metadata": {
    "cellId": "56wbun3ke7f91lc2vpriog"
   },
   "outputs": [],
   "source": [
    "run_model()"
   ]
  },
  {
   "cell_type": "markdown",
   "id": "771147b2",
   "metadata": {
    "cellId": "ce6kvu538ilhw06l2rr3h"
   },
   "source": [
    "### Chorus (for Ta_Feng)"
   ]
  },
  {
   "cell_type": "markdown",
   "id": "5acf6e61",
   "metadata": {
    "cellId": "stq1vnw5pdeorjak7yatw"
   },
   "source": [
    "_STAGE 1: Learn KG embeddings_"
   ]
  },
  {
   "cell_type": "code",
   "execution_count": 5,
   "id": "c4ad3ecd",
   "metadata": {
    "cellId": "2tnjvf87plrpk2u17oao"
   },
   "outputs": [],
   "source": [
    "MODEL_NAME  = 'Chorus' \n",
    "EMB_SIZE    = 40  \n",
    "LR          = 1e-3\n",
    "L2          = 1e-6\n",
    "DATASET     = 'ta_feng' \n",
    "BATCH_SIZE  = 64  \n",
    "EPOCH       = 10   \n",
    "TOP_K       = '5,10,15'  \n",
    "VERBOSE     = 20   \n",
    "NUM_WORKERS = 4    \n",
    "RANDOM_SEED = 3500   \n",
    "TIME_SCALAR = (60 * 60 * 24) * 14  \n",
    "CAT_COL     = 'i_category'\n",
    "POOLING     = 'average'"
   ]
  },
  {
   "cell_type": "code",
   "execution_count": 6,
   "id": "da12ae59",
   "metadata": {
    "cellId": "u531jmg2nrrrl1f9r438f"
   },
   "outputs": [
    {
     "name": "stdout",
     "output_type": "stream",
     "text": [
      "Namespace(dataset='ta_feng', model_name='Chorus')\n"
     ]
    }
   ],
   "source": [
    "args = parse_args()\n",
    "args.batch_size      = BATCH_SIZE\n",
    "args.dataset         = DATASET        \n",
    "args.emb_size        = EMB_SIZE\n",
    "args.epoch           = EPOCH\n",
    "args.topk            = TOP_K\n",
    "args.verbose         = VERBOSE\n",
    "args.eval_batch_size = BATCH_SIZE  \n",
    "args.num_workers     = NUM_WORKERS\n",
    "args.random_seed     = RANDOM_SEED\n",
    "args.model_name      = MODEL_NAME     \n",
    "args.time_scalar     = TIME_SCALAR\n",
    "args.category_col    = CAT_COL   \n",
    "args.test_all        = 1  \n",
    "args.pooling         = POOLING\n",
    "args.time_max        = 20\n",
    "args.stage           = 1\n",
    "\n",
    "model_name = eval('{0}.{0}'.format(MODEL_NAME))\n",
    "reader_name = eval('{0}.{0}'.format(model_name.reader))\n",
    "runner_name = eval('{0}.{0}'.format(model_name.runner))"
   ]
  },
  {
   "cell_type": "code",
   "execution_count": 7,
   "id": "11426216",
   "metadata": {
    "cellId": "r6b8agce2kd4mpin409adk"
   },
   "outputs": [
    {
     "name": "stderr",
     "output_type": "stream",
     "text": [
      "\r"
     ]
    },
    {
     "name": "stdout",
     "output_type": "stream",
     "text": [
      "--------------------------------------------- BEGIN: 2022-05-30 17:43:29 ---------------------------------------------\n",
      "\n",
      "==============================\n",
      " Arguments       | Values     \n",
      "==============================\n",
      " base_method     | BPR       \n",
      " batch_size      | 64        \n",
      " category_col    | i_category\n",
      " dataset         | ta_feng   \n",
      " dropout         | 0         \n",
      " early_stop      | 10        \n",
      " emb_size        | 40        \n",
      " epoch           | 10        \n",
      " eval_batch_size | 64        \n",
      " gpu             | 0         \n",
      " history_max     | 20        \n",
      " include_attr    | 0         \n",
      " l2              | 0         \n",
      " lr              | 0.001     \n",
      " lr_scale        | 0.1       \n",
      " margin          | 1         \n",
      " model_name      | Chorus    \n",
      " num_neg         | 1         \n",
      " num_workers     | 4         \n",
      " optimizer       | Adam      \n",
      " pooling         | average   \n",
      " random_seed     | 3500      \n",
      " stage           | 1         \n",
      " test_all        | 1         \n",
      " time_max        | 20        \n",
      " time_scalar     | 1209600   \n",
      " topk            | 5,10,15   \n",
      "==============================\n",
      "GPU available: True\n",
      "Load corpus from ../data/ta_feng/KGReader.pkl\n",
      "#params: 1238964\n",
      "Chorus(\n",
      "  (u_embeddings): Embedding(19361, 40)\n",
      "  (i_embeddings): Embedding(10562, 40)\n",
      "  (r_embeddings): Embedding(3, 40)\n",
      "  (betas): Embedding(1329, 3)\n",
      "  (mus): Embedding(1329, 3)\n",
      "  (sigmas): Embedding(1329, 3)\n",
      "  (prediction): Linear(in_features=40, out_features=1, bias=False)\n",
      "  (user_bias): Embedding(19361, 1)\n",
      "  (item_bias): Embedding(10562, 1)\n",
      "  (kg_loss): MarginRankingLoss()\n",
      ")\n",
      "Optimizer: Adam\n",
      "Epoch 1     loss=0.7324 [9.4 s]    dev=(HR@5:0.0008,NDCG@5:0.0005) [26.6 s] *\n",
      "Epoch 2     loss=0.5583 [9.1 s]    dev=(HR@5:0.0026,NDCG@5:0.0017) [25.2 s] *\n",
      "Epoch 3     loss=0.2904 [9.6 s]    dev=(HR@5:0.0019,NDCG@5:0.0014) [25.6 s] *\n",
      "Epoch 4     loss=0.1531 [9.3 s]    dev=(HR@5:0.0024,NDCG@5:0.0017) [25.3 s] *\n",
      "Epoch 5     loss=0.1158 [9.2 s]    dev=(HR@5:0.0025,NDCG@5:0.0017) [25.3 s] *\n",
      "Epoch 6     loss=0.0935 [9.3 s]    dev=(HR@5:0.0028,NDCG@5:0.0019) [25.1 s] *\n",
      "Epoch 7     loss=0.0763 [9.1 s]    dev=(HR@5:0.0028,NDCG@5:0.0019) [25.7 s] *\n",
      "Epoch 8     loss=0.0616 [9.2 s]    dev=(HR@5:0.0028,NDCG@5:0.0020) [25.5 s] *\n",
      "Epoch 9     loss=0.0515 [9.4 s]    dev=(HR@5:0.0030,NDCG@5:0.0020) [25.4 s] *\n",
      "Epoch 10    loss=0.0425 [9.3 s]    dev=(HR@5:0.0029,NDCG@5:0.0019) [25.4 s] *\n",
      "\n",
      "Best Iter(dev)=    9\t dev=(HR@5:0.0030,NDCG@5:0.0020) [348.7 s] \n",
      "Load model from ../model/Chorus/KG__ta_feng__emb_size=40__margin=1.pt\n",
      "\n",
      "Test After Training: (HR@5:0.0040,NDCG@5:0.0026,HR@10:0.0057,NDCG@10:0.0031,HR@15:0.0069,NDCG@15:0.0034)\n",
      "\n",
      "--------------------------------------------- END: 2022-05-30 20:00:59 ---------------------------------------------\n"
     ]
    }
   ],
   "source": [
    "run_model()"
   ]
  },
  {
   "cell_type": "markdown",
   "id": "d7271e26",
   "metadata": {
    "cellId": "wqw00t3u9644ij96lyouj"
   },
   "source": [
    "_STAGE 2: Predict_\n",
    "\n",
    "См. в ноутбуке **exp_ta_feng.ipynb**"
   ]
  }
 ],
 "metadata": {
  "kernelspec": {
   "display_name": "Yandex DataSphere Kernel",
   "language": "python",
   "name": "python3"
  },
  "language_info": {
   "codemirror_mode": {
    "name": "ipython",
    "version": 3
   },
   "file_extension": ".py",
   "mimetype": "text/x-python",
   "name": "python",
   "nbconvert_exporter": "python",
   "pygments_lexer": "ipython3",
   "version": "3.7.7"
  },
  "notebookId": "c717f7ab-1129-43ca-b33c-bc13c917fb36",
  "notebookPath": "ReChorus/src/exp_ttrs.ipynb"
 },
 "nbformat": 4,
 "nbformat_minor": 5
}

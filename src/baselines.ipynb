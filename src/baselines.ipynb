{
 "cells": [
  {
   "cell_type": "markdown",
   "id": "894134c6",
   "metadata": {
    "cellId": "639nyhavaae335369zagwt"
   },
   "source": [
    "### Качество baseline-моделей"
   ]
  },
  {
   "cell_type": "code",
   "execution_count": 333,
   "id": "3a98ca45",
   "metadata": {
    "cellId": "q2d8kw6gj2iwfrnsh3s2j"
   },
   "outputs": [],
   "source": [
    "import os\n",
    "import numpy as np\n",
    "import pandas as pd\n",
    "from collections import Counter, defaultdict"
   ]
  },
  {
   "cell_type": "code",
   "execution_count": 334,
   "id": "5f4351b3",
   "metadata": {
    "cellId": "qph0lejrq0eq162b4mze5"
   },
   "outputs": [
    {
     "name": "stdout",
     "output_type": "stream",
     "text": [
      "/home/jupyter/work/resources/ReChorus\n"
     ]
    }
   ],
   "source": [
    "%cd /home/jupyter/work/resources/ReChorus"
   ]
  },
  {
   "cell_type": "code",
   "execution_count": 335,
   "id": "b529960a",
   "metadata": {
    "cellId": "ayonev7nii94gedomcgtzo"
   },
   "outputs": [],
   "source": [
    "RANDOM_SEED = 3500\n",
    "np.random.seed(RANDOM_SEED)"
   ]
  },
  {
   "cell_type": "code",
   "execution_count": 339,
   "id": "ae2cc7ce",
   "metadata": {
    "cellId": "awvm7gasskg7co439ta7ee"
   },
   "outputs": [],
   "source": [
    "def recommend_top_popular(topk: list, test_df_path: str, train_df_path: str):\n",
    "    \n",
    "        train_df = pd.read_csv(train_df_path, sep='\\t')\n",
    "        test_df  = pd.read_csv(test_df_path, sep='\\t')\n",
    "        top_popular = train_df.item_id.value_counts()[:99].index.values\n",
    "        test_items = test_df['item_id'].values\n",
    "        rank = []\n",
    "        for i in test_items:\n",
    "            item_pos = np.nonzero(top_popular==i)[0]\n",
    "            rank += [item_pos[0]+1 if item_pos.size else 101]\n",
    "        rank = np.array(rank)\n",
    "        \n",
    "        evaluations = dict()\n",
    "        metrics = ['HR', 'NDCG']\n",
    "        for k in topk:\n",
    "            hit = (rank <= k)\n",
    "            for metric in metrics:\n",
    "                key = '{}@{}'.format(metric, k)\n",
    "                if metric == 'HR':\n",
    "                    evaluations[key] = round(hit.mean(), 4)\n",
    "                elif metric == 'NDCG':\n",
    "                    evaluations[key] = round((hit / np.log2(rank + 1)).mean(), 4)\n",
    "        return evaluations\n",
    "    \n",
    "    \n",
    "def recommend_top_personal(topk: list, test_df_path: str, train_df_path: str):\n",
    "    \n",
    "        train_df = pd.read_csv(train_df_path, sep='\\t')\n",
    "        test_df  = pd.read_csv(test_df_path, sep='\\t')\n",
    "        test_items = test_df['item_id'].values\n",
    "        \n",
    "        bought_item_set = defaultdict(list)\n",
    "        for user_id, seq_df in train_df.groupby('user_id'):\n",
    "            bought_item_set[user_id] = [x for x in seq_df['item_id'].values.tolist()]\n",
    "        bought_item_set = dict(bought_item_set)\n",
    "\n",
    "        top_personal = defaultdict(list)\n",
    "        for k, v in bought_item_set.items():\n",
    "            most_common_items = Counter(v).most_common(99)\n",
    "            top_personal[k] += [x[0] for x in most_common_items]\n",
    "        top_personal = dict(top_personal)\n",
    "\n",
    "        rank = []\n",
    "        for u, i in test_df[['user_id','item_id']].values:\n",
    "            user_popular = np.array(top_personal[u])\n",
    "            item_pos = np.nonzero(user_popular==i)[0]\n",
    "            rank += [item_pos[0]+1 if item_pos.size else 101]\n",
    "        rank = np.array(rank)\n",
    "        \n",
    "        evaluations = dict()\n",
    "        metrics = ['HR', 'NDCG']\n",
    "        for k in topk:\n",
    "            hit = (rank <= k)\n",
    "            for metric in metrics:\n",
    "                key = '{}@{}'.format(metric, k)\n",
    "                if metric == 'HR':\n",
    "                    evaluations[key] = round(hit.mean(), 4)\n",
    "                elif metric == 'NDCG':\n",
    "                    evaluations[key] = round((hit / np.log2(rank + 1)).mean(), 4)\n",
    "        return evaluations"
   ]
  },
  {
   "cell_type": "markdown",
   "id": "21f1985f",
   "metadata": {
    "cellId": "wg1qt9gne1d2oun2vzsd"
   },
   "source": [
    "### TTRS"
   ]
  },
  {
   "cell_type": "code",
   "execution_count": 340,
   "id": "52ff3c32",
   "metadata": {
    "cellId": "dvagu8f5arv5w7uyac4grn"
   },
   "outputs": [],
   "source": [
    "DATASET = 'ttrs'\n",
    "RAW_PATH = os.path.join('./data/', DATASET)"
   ]
  },
  {
   "cell_type": "code",
   "execution_count": 341,
   "id": "e9eea77c",
   "metadata": {
    "cellId": "yy6y921hd5p7nrlskk27d3"
   },
   "outputs": [
    {
     "data": {
      "text/plain": [
       "{'HR@5': 0.3458,\n",
       " 'NDCG@5': 0.2428,\n",
       " 'HR@10': 0.4506,\n",
       " 'NDCG@10': 0.2766,\n",
       " 'HR@15': 0.5158,\n",
       " 'NDCG@15': 0.2937}"
      ]
     },
     "execution_count": 341,
     "metadata": {},
     "output_type": "execute_result"
    }
   ],
   "source": [
    "topk = [5,10,15]\n",
    "recommend_top_popular(topk, os.path.join(RAW_PATH, 'test.csv'), os.path.join(RAW_PATH, 'train.csv'))"
   ]
  },
  {
   "cell_type": "code",
   "execution_count": 342,
   "id": "8dc7da9b",
   "metadata": {
    "cellId": "ens2cjc7v29ljoa9b97gwc"
   },
   "outputs": [
    {
     "data": {
      "text/plain": [
       "{'HR@5': 0.6614,\n",
       " 'NDCG@5': 0.509,\n",
       " 'HR@10': 0.75,\n",
       " 'NDCG@10': 0.538,\n",
       " 'HR@15': 0.779,\n",
       " 'NDCG@15': 0.5457}"
      ]
     },
     "execution_count": 342,
     "metadata": {},
     "output_type": "execute_result"
    }
   ],
   "source": [
    "topk = [5,10,15]\n",
    "recommend_top_personal(topk, os.path.join(RAW_PATH, 'test.csv'), os.path.join(RAW_PATH, 'train.csv'))"
   ]
  },
  {
   "cell_type": "markdown",
   "id": "1a4f4427",
   "metadata": {
    "cellId": "p8l6gmrf333agua9qzmxd"
   },
   "source": [
    "### TA_FENG"
   ]
  },
  {
   "cell_type": "code",
   "execution_count": 349,
   "id": "4702bd58",
   "metadata": {
    "cellId": "k88p4itqnhk97158yhapja"
   },
   "outputs": [],
   "source": [
    "DATASET = 'ta_feng'\n",
    "RAW_PATH = os.path.join('./data/', DATASET)"
   ]
  },
  {
   "cell_type": "code",
   "execution_count": 350,
   "id": "6be43874",
   "metadata": {
    "cellId": "s6b8952t7z80gma00h3i2oo"
   },
   "outputs": [
    {
     "data": {
      "text/plain": [
       "{'HR@5': 0.0454,\n",
       " 'NDCG@5': 0.0374,\n",
       " 'HR@10': 0.0555,\n",
       " 'NDCG@10': 0.0407,\n",
       " 'HR@15': 0.0729,\n",
       " 'NDCG@15': 0.0452}"
      ]
     },
     "execution_count": 350,
     "metadata": {},
     "output_type": "execute_result"
    }
   ],
   "source": [
    "topk = [5,10,15]\n",
    "recommend_top_popular(topk, os.path.join(RAW_PATH, 'test.csv'), os.path.join(RAW_PATH, 'train.csv'))"
   ]
  },
  {
   "cell_type": "code",
   "execution_count": 351,
   "id": "db664af2",
   "metadata": {
    "cellId": "xa3tm8grem18xlkhhk55x"
   },
   "outputs": [
    {
     "data": {
      "text/plain": [
       "{'HR@5': 0.0499,\n",
       " 'NDCG@5': 0.033,\n",
       " 'HR@10': 0.0749,\n",
       " 'NDCG@10': 0.0411,\n",
       " 'HR@15': 0.0897,\n",
       " 'NDCG@15': 0.045}"
      ]
     },
     "execution_count": 351,
     "metadata": {},
     "output_type": "execute_result"
    }
   ],
   "source": [
    "topk = [5,10,15]\n",
    "recommend_top_personal(topk, os.path.join(RAW_PATH, 'test.csv'), os.path.join(RAW_PATH, 'train.csv'))"
   ]
  },
  {
   "cell_type": "code",
   "execution_count": null,
   "id": "54edc48f",
   "metadata": {
    "cellId": "y3ecvj4xlcpabyvvtnis3l"
   },
   "outputs": [],
   "source": []
  }
 ],
 "metadata": {
  "kernelspec": {
   "display_name": "Yandex DataSphere Kernel",
   "language": "python",
   "name": "python3"
  },
  "language_info": {
   "codemirror_mode": {
    "name": "ipython",
    "version": 3
   },
   "file_extension": ".py",
   "mimetype": "text/x-python",
   "name": "python",
   "nbconvert_exporter": "python",
   "pygments_lexer": "ipython3",
   "version": "3.7.7"
  },
  "notebookId": "cb4bdc9e-fdf9-467d-8381-2170ac713e66",
  "notebookPath": "ReChorus/src/baselines.ipynb"
 },
 "nbformat": 4,
 "nbformat_minor": 5
}
